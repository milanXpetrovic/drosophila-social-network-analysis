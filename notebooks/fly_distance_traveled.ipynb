{
 "cells": [
  {
   "cell_type": "code",
   "execution_count": null,
   "metadata": {},
   "outputs": [],
   "source": [
    "import pandas as pd \n",
    "import package_functions as hf\n",
    "\n",
    "DATA_PATH = '../2_pipeline/0_1_get_path_features/out/window_size_3'\n",
    "SAVE_PATH = '../2_pipeline/2_1_get_fly_distance_traveled/out'\n",
    "\n",
    "experiments = hf.load_multiple_folders(DATA_PATH)\n",
    "\n",
    "for pop_name, path in experiments.items():  \n",
    "    fly_dict = hf.load_files_from_folder(path)\n",
    "    distances = {}\n",
    "    \n",
    "    for fly_name, path in fly_dict.items(): \n",
    "        df = pd.read_csv(path, usecols=['step'])\n",
    "        walked_path = int(df['step'].sum())\n",
    "        distances.update({fly_name.replace('.csv', '') : walked_path})\n",
    "    \n",
    "    df = pd.DataFrame(distances, ['distance'])\n",
    "    df = df.T\n",
    "    \n",
    "    df.to_csv(SAVE_PATH + '/' + pop_name + '.csv')\n",
    "    \n",
    "\n",
    "\n"
   ]
  }
 ],
 "metadata": {
  "language_info": {
   "name": "python"
  },
  "orig_nbformat": 4
 },
 "nbformat": 4,
 "nbformat_minor": 2
}
