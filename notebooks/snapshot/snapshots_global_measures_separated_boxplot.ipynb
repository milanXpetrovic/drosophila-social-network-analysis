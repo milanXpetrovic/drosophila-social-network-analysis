{
 "cells": [
  {
   "cell_type": "markdown",
   "metadata": {},
   "source": [
    "### Global measures distributions in snapshots, displayed for each snapshot and joint for treatments"
   ]
  },
  {
   "cell_type": "code",
   "execution_count": 1,
   "metadata": {},
   "outputs": [
    {
     "ename": "SystemExit",
     "evalue": "/srv/milky/drosophila-datasets/drosophila-isolation/data/results/global_measures_snapshots/60_sec_window is invalid path!",
     "output_type": "error",
     "traceback": [
      "An exception has occurred, use %tb to see the full traceback.\n",
      "\u001b[0;31mSystemExit\u001b[0m\u001b[0;31m:\u001b[0m /srv/milky/drosophila-datasets/drosophila-isolation/data/results/global_measures_snapshots/60_sec_window is invalid path!\n"
     ]
    },
    {
     "name": "stderr",
     "output_type": "stream",
     "text": [
      "/home/milky/drosophila-isolation/.venv/lib/python3.8/site-packages/IPython/core/interactiveshell.py:3516: UserWarning: To exit: use 'exit', 'quit', or Ctrl-D.\n",
      "  warn(\"To exit: use 'exit', 'quit', or Ctrl-D.\", stacklevel=1)\n"
     ]
    }
   ],
   "source": [
    "import os\n",
    "import toml\n",
    "import pandas as pd\n",
    "import seaborn as sns\n",
    "import matplotlib.pyplot as plt\n",
    "\n",
    "from src import settings\n",
    "from src.utils import fileio\n",
    "\n",
    "CONFIG_PATH = os.path.join(settings.CONFIG_DIR, \"main.toml\")\n",
    "with open(CONFIG_PATH, \"r\") as file:\n",
    "    config = toml.load(file)\n",
    "\n",
    "TIME_WINDOW = config[\"TIME_WINDOW\"]\n",
    "INPUT_PATH = os.path.join(settings.RESULTS_DIR, \"global_measures_snapshots\", f\"{TIME_WINDOW}_sec_window\")\n",
    "all_treatments = fileio.load_multiple_folders(INPUT_PATH)\n",
    "all_treatments = {key: value for key, value in all_treatments.items() if key in config[\"TREATMENTS\"]}\n",
    "\n",
    "dataframes = []\n",
    "for treatment_name, treatment_path in all_treatments.items():\n",
    "    all_groups = fileio.load_files_from_folder(treatment_path)\n",
    "    treatment_dataframes = []\n",
    "    for group_name, group_path in all_groups.items():\n",
    "        df = pd.read_csv(group_path, index_col=0)\n",
    "        df[\"Group\"] = group_name\n",
    "        treatment_dataframes.append(df)\n",
    "\n",
    "    combined_df = pd.concat(treatment_dataframes)\n",
    "    combined_df = combined_df.set_index([\"Group\"], append=True)\n",
    "    combined_df.index.names = [\"Snapshot\", \"Group\"]\n",
    "    combined_df = combined_df.reorder_levels([\"Group\", \"Snapshot\"])\n",
    "    combined_df[\"Treatment\"] = treatment_name\n",
    "    combined_df = combined_df.set_index(\"Treatment\", append=True)\n",
    "    dataframes.append(combined_df)\n",
    "\n",
    "combined_data = pd.concat(dataframes)\n",
    "\n",
    "combined_data_reset = combined_data.reset_index()\n",
    "for measure_name in combined_data.columns:\n",
    "\n",
    "    plt.figure(figsize=(25, 3))\n",
    "    sns.boxplot(data=combined_data_reset, x=\"Snapshot\", y=measure_name, hue=\"Treatment\")\n",
    "    plt.xlabel(\"Snapshot\")\n",
    "    plt.ylabel(measure_name)\n",
    "    plt.title(f\"Distribution of {measure_name}\")\n",
    "    plt.legend(bbox_to_anchor=(1.0, 0.7), loc=\"upper left\")\n",
    "    plt.show()"
   ]
  }
 ],
 "metadata": {
  "kernelspec": {
   "display_name": ".env",
   "language": "python",
   "name": "python3"
  },
  "language_info": {
   "codemirror_mode": {
    "name": "ipython",
    "version": 3
   },
   "file_extension": ".py",
   "mimetype": "text/x-python",
   "name": "python",
   "nbconvert_exporter": "python",
   "pygments_lexer": "ipython3",
   "version": "3.8.10"
  },
  "orig_nbformat": 4
 },
 "nbformat": 4,
 "nbformat_minor": 2
}
