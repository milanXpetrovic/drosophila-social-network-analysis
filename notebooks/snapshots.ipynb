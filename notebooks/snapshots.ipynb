{
 "cells": [
  {
   "cell_type": "code",
   "execution_count": 19,
   "metadata": {},
   "outputs": [],
   "source": [
    "import pandas as pd\n",
    "import networkx as nx\n",
    "import matplotlib.pyplot as plt\n",
    "\n",
    "from src.utils import fileio\n",
    "import matplotlib.pyplot as plt\n",
    "\n",
    "path = \"/home/milky/drosophila-SNA/data/processed/CsCh/1_0_find_edges/CsCh_A2_19_04_2023-12_08.csv\"\n",
    "\n",
    "df = pd.read_csv(path, index_col=0)\n",
    "df = df.sort_values('start_of_interaction')\n",
    "df[\"snapshot\"] = df['start_of_interaction'] // (1440*3) #\n",
    "df[\"snapshot\"]  = df[\"snapshot\"]+1\n",
    "\n",
    "unique_count = df['snapshot'].value_counts()\n",
    "unique_count = unique_count.sort_index(ascending=True)"
   ]
  },
  {
   "cell_type": "code",
   "execution_count": null,
   "metadata": {},
   "outputs": [],
   "source": [
    "# pair_counts = df.groupby(['node_1', 'node_2']).size().reset_index(name='count')\n",
    "\n",
    "# # print(pair_counts.sort_values('count', ascending=False)[:30])\n",
    "# # selected_rows = pair_counts[pair_counts['count'] > 7]\n",
    "# selected_rows"
   ]
  },
  {
   "cell_type": "code",
   "execution_count": 20,
   "metadata": {},
   "outputs": [],
   "source": [
    "snapshot_graphs = []\n",
    "for i in range(1, 11):\n",
    "    filtered_df = df[df['snapshot'] == i]\n",
    "    G = nx.DiGraph()\n",
    "\n",
    "    nodes = ['fly' + str(i) for i in range(1, 13)]\n",
    "    G.add_nodes_from(nodes) \n",
    "\n",
    "    for _, row in filtered_df.iterrows():\n",
    "        node_1 = row['node_1']\n",
    "        node_2 = row['node_2']\n",
    "        duration = row['duration']\n",
    "        count=1\n",
    "\n",
    "        if G.has_edge(node_1, node_2):\n",
    "            count += G[node_1][node_2]['count']\n",
    "            duration += duration\n",
    "\n",
    "        else:\n",
    "            G.add_edge(node_1, node_2, count=count, duration=duration)\n",
    "    \n",
    "    snapshot_graphs.append(G)\n"
   ]
  },
  {
   "cell_type": "code",
   "execution_count": null,
   "metadata": {},
   "outputs": [],
   "source": [
    "plot_graphs = snapshot_graphs #[:8]\n",
    "\n",
    "num_rows = 6\n",
    "num_cols = 5\n",
    "\n",
    "fig, axes = plt.subplots(num_rows, num_cols, figsize=(20, 25))\n",
    "axes = axes.flatten()\n",
    "\n",
    "g_density = []\n",
    "degrees_list = []\n",
    "# Iterate over the graphs and plot them\n",
    "for i, graph in enumerate(plot_graphs):\n",
    "    # Generate circular layout positions for the nodes\n",
    "    layout_positions = nx.circular_layout(graph)\n",
    "\n",
    "    out_degrees = dict(graph.out_degree())\n",
    "    degrees_list.append(out_degrees)\n",
    "\n",
    "    node_sizes = [250 * (out_degrees[node] + 1) for node in graph.nodes()]\n",
    "\n",
    "    # Plot the graph using the circular layout positions\n",
    "    ax = axes[i]\n",
    "    ax.set_title(f'Graph {i+1}')\n",
    "    nx.draw(graph, pos=layout_positions, with_labels=True, node_color='lightblue', node_size=node_sizes, edge_color='gray', arrowsize=10, ax=ax)\n",
    "\n",
    "    # Calculate the density of the graph\n",
    "    graph_density = nx.density(graph)\n",
    "    g_density.append(graph_density)\n",
    "    # Add density value as a text annotation under the graph\n",
    "    ax.text(0.5, -0.1, f'Density: {graph_density:.3f}', transform=ax.transAxes, ha='center')\n",
    "\n",
    "# Hide the remaining empty subplots\n",
    "for j in range(len(plot_graphs), num_rows * num_cols):\n",
    "    fig.delaxes(axes[j])\n",
    "\n",
    "plt.tight_layout()\n",
    "plt.show()"
   ]
  },
  {
   "cell_type": "code",
   "execution_count": 100,
   "metadata": {},
   "outputs": [],
   "source": [
    "g_density_1 = g_density"
   ]
  },
  {
   "cell_type": "code",
   "execution_count": 32,
   "metadata": {},
   "outputs": [
    {
     "ename": "AttributeError",
     "evalue": "'InDegreeView' object has no attribute 'values'",
     "output_type": "error",
     "traceback": [
      "\u001b[0;31m---------------------------------------------------------------------------\u001b[0m",
      "\u001b[0;31mAttributeError\u001b[0m                            Traceback (most recent call last)",
      "Cell \u001b[0;32mIn[32], line 8\u001b[0m\n\u001b[1;32m      5\u001b[0m in_degree \u001b[39m=\u001b[39m graph\u001b[39m.\u001b[39min_degree()\n\u001b[1;32m      6\u001b[0m out_degree \u001b[39m=\u001b[39m graph\u001b[39m.\u001b[39mout_degree()\n\u001b[0;32m----> 8\u001b[0m \u001b[39mprint\u001b[39m(in_degree\u001b[39m.\u001b[39;49mvalues())\n\u001b[1;32m      9\u001b[0m in_values\u001b[39m.\u001b[39mappend(in_degree)\n\u001b[1;32m     10\u001b[0m out_values\u001b[39m.\u001b[39mappend(out_degree)\n",
      "\u001b[0;31mAttributeError\u001b[0m: 'InDegreeView' object has no attribute 'values'"
     ]
    }
   ],
   "source": [
    "\n",
    "in_values = []\n",
    "out_values = []\n",
    "\n",
    "for graph in snapshot_graphs:\n",
    "    in_degree = graph.in_degree()\n",
    "    out_degree = graph.out_degree()\n",
    "\n",
    "    print(in_degree.values())\n",
    "    in_values.append(in_degree)\n",
    "    out_values.append(out_degree)\n"
   ]
  },
  {
   "cell_type": "code",
   "execution_count": 29,
   "metadata": {},
   "outputs": [
    {
     "ename": "AttributeError",
     "evalue": "'InDegreeView' object has no attribute 'values'",
     "output_type": "error",
     "traceback": [
      "\u001b[0;31m---------------------------------------------------------------------------\u001b[0m",
      "\u001b[0;31mAttributeError\u001b[0m                            Traceback (most recent call last)",
      "Cell \u001b[0;32mIn[29], line 3\u001b[0m\n\u001b[1;32m      1\u001b[0m d_in \u001b[39m=\u001b[39m {}\n\u001b[1;32m      2\u001b[0m \u001b[39mfor\u001b[39;00m i, in_v \u001b[39min\u001b[39;00m \u001b[39menumerate\u001b[39m(in_values):\n\u001b[0;32m----> 3\u001b[0m     in_degrees \u001b[39m=\u001b[39m \u001b[39mlist\u001b[39m(in_v\u001b[39m.\u001b[39;49mvalues())\n\u001b[1;32m      5\u001b[0m     d_in\u001b[39m.\u001b[39mupdate({i: in_degrees})\n\u001b[1;32m      7\u001b[0m d_out \u001b[39m=\u001b[39m {}\n",
      "\u001b[0;31mAttributeError\u001b[0m: 'InDegreeView' object has no attribute 'values'"
     ]
    }
   ],
   "source": [
    "d_in = {}\n",
    "for i, in_v in enumerate(in_values):\n",
    "    in_degrees = list(in_v.values())\n",
    "\n",
    "    d_in.update({i: in_degrees})\n",
    "\n",
    "d_out = {}\n",
    "for i, out_v in enumerate(out_values):\n",
    "    out_degrees = list(out_v.values())\n",
    "\n",
    "    d_out.update({i: out_degrees})"
   ]
  },
  {
   "cell_type": "code",
   "execution_count": 27,
   "metadata": {},
   "outputs": [
    {
     "data": {
      "text/plain": [
       "Text(0.5, 1.0, 'Out degree centrality')"
      ]
     },
     "execution_count": 27,
     "metadata": {},
     "output_type": "execute_result"
    },
    {
     "data": {
      "image/png": "[encoded data removed]",
      "text/plain": [
       "<Figure size 640x480 with 1 Axes>"
      ]
     },
     "metadata": {},
     "output_type": "display_data"
    },
    {
     "data": {
      "image/png": "[encoded data removed]",
      "text/plain": [
       "<Figure size 640x480 with 1 Axes>"
      ]
     },
     "metadata": {},
     "output_type": "display_data"
    }
   ],
   "source": [
    "fig, ax = plt.subplots()\n",
    "ax.boxplot(d_in.values())\n",
    "ax.set_xticklabels(d_in.keys())\n",
    "ax.set_title(\"In degree centrality\")\n",
    "\n",
    "fig, ax = plt.subplots()\n",
    "ax.boxplot(d_out.values())\n",
    "ax.set_xticklabels(d_out.keys())\n",
    "ax.set_title(\"Out degree centrality\")"
   ]
  }
 ],
 "metadata": {
  "kernelspec": {
   "display_name": "drosophilaSNA",
   "language": "python",
   "name": "python3"
  },
  "language_info": {
   "codemirror_mode": {
    "name": "ipython",
    "version": 3
   },
   "file_extension": ".py",
   "mimetype": "text/x-python",
   "name": "python",
   "nbconvert_exporter": "python",
   "pygments_lexer": "ipython3",
   "version": "3.8.10"
  },
  "orig_nbformat": 4
 },
 "nbformat": 4,
 "nbformat_minor": 2
}
