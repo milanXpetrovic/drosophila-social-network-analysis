{
 "cells": [
  {
   "cell_type": "code",
   "execution_count": 7,
   "metadata": {},
   "outputs": [
    {
     "ename": "SystemExit",
     "evalue": "Directory is empty!",
     "output_type": "error",
     "traceback": [
      "An exception has occurred, use %tb to see the full traceback.\n",
      "\u001b[0;31mSystemExit\u001b[0m\u001b[0;31m:\u001b[0m Directory is empty!\n"
     ]
    },
    {
     "name": "stderr",
     "output_type": "stream",
     "text": [
      "/home/milky/Envs/drosophilaSNA/lib/python3.8/site-packages/IPython/core/interactiveshell.py:3516: UserWarning: To exit: use 'exit', 'quit', or Ctrl-D.\n",
      "  warn(\"To exit: use 'exit', 'quit', or Ctrl-D.\", stacklevel=1)\n"
     ]
    }
   ],
   "source": [
    "import os\n",
    "import json\n",
    "import numpy as np\n",
    "import pandas as pd\n",
    "import networkx as nx\n",
    "import matplotlib.pyplot as plt\n",
    "\n",
    "from src import settings\n",
    "from src.utils import fileio, graph_utils\n",
    "\n",
    "\n",
    "INPUT_DIR = os.path.join(\n",
    "    settings.RESULTS_DIR, \"distances_traveled\", TREATMENT\n",
    ")\n",
    "distances = fileio.load_files_from_folder(INPUT_DIR, \".csv\")\n",
    "\n",
    "SCRIPT_OUTPUT = os.path.join(\n",
    "    settings.OUTPUT_DIR, \"1_1_create_snapshots\", TREATMENT, \"120_sec_window\"\n",
    ")\n",
    "interactions = fileio.load_multiple_folders(INPUT_DIR)\n",
    "\n",
    "group = []\n",
    "for distances_name, distances_path in distances.items():\n",
    "    interactions_path = interactions[distances_name.replace(\".csv\",\"\")] \n",
    "    interactions_group = fileio.load_files_from_folder(interactions_path, \".gml\")\n",
    "\n",
    "    res = []\n",
    "    for graph_name, graph_path in interactions_group.items():\n",
    "        G = nx.read_gml(graph_path)\n",
    "        out_deg = G.degree()\n",
    "        res.append(dict(out_deg))\n",
    "\n",
    "    summed_dict = {}\n",
    "\n",
    "    for dictionary in res:\n",
    "        # Iterate over the keys in the current dictionary\n",
    "        for key in dictionary.keys():\n",
    "            # Add the corresponding value to the sum, or initialize it if not present\n",
    "            summed_dict[key] = summed_dict.get(key, 0) + dictionary[key]\n",
    "\n",
    "    distances = pd.read_csv(distances_path,index_col=0)\n",
    "    distances = distances.sum()\n",
    "\n",
    "    for key in summed_dict.keys():\n",
    "        group.append((summed_dict[key], distances[key], distances_name.replace(\".csv\", \"\")))\n",
    "\n",
    "\n",
    "x = [item[0] for item in group]\n",
    "y = [item[1] for item in group]\n",
    "groups = [item[2] for item in group]\n",
    "unique_groups = list(set(groups))\n",
    "num_groups = len(unique_groups)\n",
    "\n",
    "colormap = plt.cm.get_cmap('tab10', num_groups)\n",
    "group_colors = [colormap(i) for i in range(num_groups)]\n",
    "group_color_map = dict(zip(unique_groups, group_colors))\n",
    "colors = [group_color_map[group] for group in groups]\n",
    "\n",
    "# Plot scatter plot\n",
    "plt.scatter(x, y, c=colors)\n",
    "\n",
    "legend_elements = [plt.Line2D([0], [0], marker='o', color='w', markerfacecolor=color, label=group) for group, color in group_color_map.items()]\n",
    "plt.legend(handles=legend_elements, loc='center left', bbox_to_anchor=(1, 0.5))\n",
    "\n",
    "plt.ylabel('Distance')\n",
    "plt.xlabel('Number of Interactions')\n",
    "plt.title('Scatter Plot: Distance vs Number of Interactions')\n",
    "plt.show()"
   ]
  },
  {
   "cell_type": "code",
   "execution_count": 6,
   "metadata": {},
   "outputs": [
    {
     "data": {
      "text/plain": [
       "{}"
      ]
     },
     "execution_count": 6,
     "metadata": {},
     "output_type": "execute_result"
    }
   ],
   "source": [
    "distances"
   ]
  },
  {
   "cell_type": "code",
   "execution_count": 6,
   "metadata": {},
   "outputs": [
    {
     "data": {
      "text/plain": [
       "{}"
      ]
     },
     "execution_count": 6,
     "metadata": {},
     "output_type": "execute_result"
    }
   ],
   "source": [
    "distances"
   ]
  },
  {
   "cell_type": "code",
   "execution_count": 6,
   "metadata": {},
   "outputs": [
    {
     "data": {
      "text/plain": [
       "[(45, 465505.24435399513, 'CsCh_A4_21_04_2023-11_54'),\n",
       " (38, 334377.04368304595, 'CsCh_A4_21_04_2023-11_54'),\n",
       " (45, 348622.76687342767, 'CsCh_A4_21_04_2023-11_54'),\n",
       " (59, 455736.84711256967, 'CsCh_A4_21_04_2023-11_54'),\n",
       " (47, 373101.98736320157, 'CsCh_A4_21_04_2023-11_54'),\n",
       " (60, 353422.4519738189, 'CsCh_A4_21_04_2023-11_54'),\n",
       " (36, 460673.5154279832, 'CsCh_A4_21_04_2023-11_54'),\n",
       " (29, 504132.7534776922, 'CsCh_A4_21_04_2023-11_54'),\n",
       " (45, 400891.44564050727, 'CsCh_A4_21_04_2023-11_54'),\n",
       " (46, 391892.4278030797, 'CsCh_A4_21_04_2023-11_54'),\n",
       " (46, 371513.2712163707, 'CsCh_A4_21_04_2023-11_54'),\n",
       " (53, 392048.625522207, 'CsCh_A4_21_04_2023-11_54'),\n",
       " (53, 408035.695748217, 'CsCh_A1_05_05_2023-11_21'),\n",
       " (52, 302279.8824971552, 'CsCh_A1_05_05_2023-11_21'),\n",
       " (48, 328958.0748054405, 'CsCh_A1_05_05_2023-11_21'),\n",
       " (53, 251241.66544170867, 'CsCh_A1_05_05_2023-11_21'),\n",
       " (58, 315873.06345705956, 'CsCh_A1_05_05_2023-11_21'),\n",
       " (46, 298326.654297822, 'CsCh_A1_05_05_2023-11_21'),\n",
       " (60, 297997.61718444136, 'CsCh_A1_05_05_2023-11_21'),\n",
       " (55, 294170.418917477, 'CsCh_A1_05_05_2023-11_21'),\n",
       " (52, 288392.33646203065, 'CsCh_A1_05_05_2023-11_21'),\n",
       " (51, 299969.30890508345, 'CsCh_A1_05_05_2023-11_21'),\n",
       " (46, 327330.5230977823, 'CsCh_A1_05_05_2023-11_21'),\n",
       " (43, 239247.09320890976, 'CsCh_A1_05_05_2023-11_21'),\n",
       " (55, 413426.0647709392, 'CsCh_A3_20_04_2023-11_45'),\n",
       " (42, 411148.614760635, 'CsCh_A3_20_04_2023-11_45'),\n",
       " (45, 385970.22045530844, 'CsCh_A3_20_04_2023-11_45'),\n",
       " (46, 369713.186410988, 'CsCh_A3_20_04_2023-11_45'),\n",
       " (39, 262838.0307132547, 'CsCh_A3_20_04_2023-11_45'),\n",
       " (62, 386701.8772220042, 'CsCh_A3_20_04_2023-11_45'),\n",
       " (60, 332308.13076885656, 'CsCh_A3_20_04_2023-11_45'),\n",
       " (39, 316708.5139003641, 'CsCh_A3_20_04_2023-11_45'),\n",
       " (46, 254623.49338901913, 'CsCh_A3_20_04_2023-11_45'),\n",
       " (41, 441465.03453261557, 'CsCh_A3_20_04_2023-11_45'),\n",
       " (52, 323654.9736912107, 'CsCh_A3_20_04_2023-11_45'),\n",
       " (32, 325827.9931141591, 'CsCh_A3_20_04_2023-11_45'),\n",
       " (43, 377815.42168717884, 'CsCh_A2_19_04_2023-12_08'),\n",
       " (39, 445337.78767103987, 'CsCh_A2_19_04_2023-12_08'),\n",
       " (31, 388494.6156255892, 'CsCh_A2_19_04_2023-12_08'),\n",
       " (36, 311358.43203854986, 'CsCh_A2_19_04_2023-12_08'),\n",
       " (31, 324247.62011628324, 'CsCh_A2_19_04_2023-12_08'),\n",
       " (42, 332238.69550561707, 'CsCh_A2_19_04_2023-12_08'),\n",
       " (39, 421788.4354284852, 'CsCh_A2_19_04_2023-12_08'),\n",
       " (25, 347894.6557295582, 'CsCh_A2_19_04_2023-12_08'),\n",
       " (49, 343902.5035320555, 'CsCh_A2_19_04_2023-12_08'),\n",
       " (41, 354164.8974003134, 'CsCh_A2_19_04_2023-12_08'),\n",
       " (40, 330508.38638302154, 'CsCh_A2_19_04_2023-12_08'),\n",
       " (37, 292187.99136038695, 'CsCh_A2_19_04_2023-12_08'),\n",
       " (46, 268607.2912627204, 'CsCh_A4_21_04_2023-11_08'),\n",
       " (59, 370233.45117231016, 'CsCh_A4_21_04_2023-11_08'),\n",
       " (47, 369873.61132924573, 'CsCh_A4_21_04_2023-11_08'),\n",
       " (53, 351976.08533259435, 'CsCh_A4_21_04_2023-11_08'),\n",
       " (63, 316183.04587321315, 'CsCh_A4_21_04_2023-11_08'),\n",
       " (46, 315304.2816229794, 'CsCh_A4_21_04_2023-11_08'),\n",
       " (44, 330375.1004978311, 'CsCh_A4_21_04_2023-11_08'),\n",
       " (45, 295414.1160731064, 'CsCh_A4_21_04_2023-11_08'),\n",
       " (35, 343712.18513267644, 'CsCh_A4_21_04_2023-11_08'),\n",
       " (42, 253374.00615998503, 'CsCh_A4_21_04_2023-11_08'),\n",
       " (33, 335993.37686192786, 'CsCh_A4_21_04_2023-11_08'),\n",
       " (55, 286846.26736844104, 'CsCh_A4_21_04_2023-11_08'),\n",
       " (52, 339260.135338049, 'CsCh_A3_21_04_2023-11_08'),\n",
       " (58, 259080.76531514383, 'CsCh_A3_21_04_2023-11_08'),\n",
       " (48, 241978.61622952495, 'CsCh_A3_21_04_2023-11_08'),\n",
       " (56, 230909.67104441274, 'CsCh_A3_21_04_2023-11_08'),\n",
       " (55, 260228.84327534764, 'CsCh_A3_21_04_2023-11_08'),\n",
       " (72, 218121.31886288288, 'CsCh_A3_21_04_2023-11_08'),\n",
       " (49, 329303.5832162202, 'CsCh_A3_21_04_2023-11_08'),\n",
       " (37, 266662.39715985034, 'CsCh_A3_21_04_2023-11_08'),\n",
       " (57, 283667.7139128296, 'CsCh_A3_21_04_2023-11_08'),\n",
       " (50, 264794.19635012373, 'CsCh_A3_21_04_2023-11_08'),\n",
       " (52, 348410.8725133212, 'CsCh_A3_21_04_2023-11_08'),\n",
       " (48, 243241.17692361496, 'CsCh_A3_21_04_2023-11_08'),\n",
       " (25, 438428.4019440328, 'CsCh_A3_28_04_2023-11_20'),\n",
       " (33, 401722.92667566467, 'CsCh_A3_28_04_2023-11_20'),\n",
       " (45, 420721.9288238719, 'CsCh_A3_28_04_2023-11_20'),\n",
       " (46, 330874.0484099856, 'CsCh_A3_28_04_2023-11_20'),\n",
       " (50, 474156.4890026994, 'CsCh_A3_28_04_2023-11_20'),\n",
       " (31, 386330.406242272, 'CsCh_A3_28_04_2023-11_20'),\n",
       " (39, 361069.74319539056, 'CsCh_A3_28_04_2023-11_20'),\n",
       " (37, 419702.3340894587, 'CsCh_A3_28_04_2023-11_20'),\n",
       " (42, 380551.9984402505, 'CsCh_A3_28_04_2023-11_20'),\n",
       " (38, 409141.0933147495, 'CsCh_A3_28_04_2023-11_20'),\n",
       " (40, 400751.806252874, 'CsCh_A3_28_04_2023-11_20'),\n",
       " (40, 350232.90248192946, 'CsCh_A3_28_04_2023-11_20'),\n",
       " (43, 315658.86511334515, 'CsCh_A1_21_04_2023-11_54'),\n",
       " (47, 462033.41447980364, 'CsCh_A1_21_04_2023-11_54'),\n",
       " (49, 311103.1912146951, 'CsCh_A1_21_04_2023-11_54'),\n",
       " (38, 312249.97214905196, 'CsCh_A1_21_04_2023-11_54'),\n",
       " (37, 399643.2853340459, 'CsCh_A1_21_04_2023-11_54'),\n",
       " (40, 306337.76652133453, 'CsCh_A1_21_04_2023-11_54'),\n",
       " (42, 389753.0122409611, 'CsCh_A1_21_04_2023-11_54'),\n",
       " (40, 380463.2085632107, 'CsCh_A1_21_04_2023-11_54'),\n",
       " (48, 474338.2476359692, 'CsCh_A1_21_04_2023-11_54'),\n",
       " (40, 330917.1401669357, 'CsCh_A1_21_04_2023-11_54'),\n",
       " (44, 212749.7209140265, 'CsCh_A1_21_04_2023-11_54'),\n",
       " (37, 313273.3259670024, 'CsCh_A1_21_04_2023-11_54'),\n",
       " (33, 445674.24897306354, 'CsCh_A2_28_04_2023-11_20'),\n",
       " (52, 477321.48931110237, 'CsCh_A2_28_04_2023-11_20'),\n",
       " (55, 462219.71994553413, 'CsCh_A2_28_04_2023-11_20'),\n",
       " (41, 346799.82942802075, 'CsCh_A2_28_04_2023-11_20'),\n",
       " (46, 513161.2081023819, 'CsCh_A2_28_04_2023-11_20'),\n",
       " (34, 464601.6915944933, 'CsCh_A2_28_04_2023-11_20'),\n",
       " (47, 510430.4430582986, 'CsCh_A2_28_04_2023-11_20'),\n",
       " (49, 429953.1352436449, 'CsCh_A2_28_04_2023-11_20'),\n",
       " (55, 436555.16908225266, 'CsCh_A2_28_04_2023-11_20'),\n",
       " (49, 577319.4385291913, 'CsCh_A2_28_04_2023-11_20'),\n",
       " (40, 533675.7624030585, 'CsCh_A2_28_04_2023-11_20'),\n",
       " (43, 375602.3181102803, 'CsCh_A2_28_04_2023-11_20'),\n",
       " (38, 439931.431936463, 'CsCh_A2_20_04_2023-11_45'),\n",
       " (41, 450040.8210202668, 'CsCh_A2_20_04_2023-11_45'),\n",
       " (40, 326395.28560774296, 'CsCh_A2_20_04_2023-11_45'),\n",
       " (44, 420239.4693135394, 'CsCh_A2_20_04_2023-11_45'),\n",
       " (44, 160460.52348224536, 'CsCh_A2_20_04_2023-11_45'),\n",
       " (47, 446698.5318515648, 'CsCh_A2_20_04_2023-11_45'),\n",
       " (39, 315209.93933581345, 'CsCh_A2_20_04_2023-11_45'),\n",
       " (38, 408239.68371506815, 'CsCh_A2_20_04_2023-11_45'),\n",
       " (37, 307478.15247345925, 'CsCh_A2_20_04_2023-11_45'),\n",
       " (50, 303053.6497600203, 'CsCh_A2_20_04_2023-11_45'),\n",
       " (35, 427054.84911940596, 'CsCh_A2_20_04_2023-11_45'),\n",
       " (43, 266964.9644506582, 'CsCh_A2_20_04_2023-11_45')]"
      ]
     },
     "execution_count": 6,
     "metadata": {},
     "output_type": "execute_result"
    }
   ],
   "source": [
    "group"
   ]
  }
 ],
 "metadata": {
  "kernelspec": {
   "display_name": "drosophilaSNA",
   "language": "python",
   "name": "python3"
  },
  "language_info": {
   "codemirror_mode": {
    "name": "ipython",
    "version": 3
   },
   "file_extension": ".py",
   "mimetype": "text/x-python",
   "name": "python",
   "nbconvert_exporter": "python",
   "pygments_lexer": "ipython3",
   "version": "3.8.10"
  },
  "orig_nbformat": 4
 },
 "nbformat": 4,
 "nbformat_minor": 2
}
