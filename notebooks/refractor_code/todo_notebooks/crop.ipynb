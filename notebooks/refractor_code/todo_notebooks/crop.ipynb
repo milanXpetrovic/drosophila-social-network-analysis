{
 "cells": [
  {
   "cell_type": "code",
   "execution_count": 12,
   "metadata": {},
   "outputs": [],
   "source": [
    "import pandas as pd\n",
    "from src.utils import fileio\n",
    "from src import settings\n",
    "\n",
    "path = \"/home/milky/drosophila-SNA/data/trackings/CTRL_5DIZ\"\n",
    "\n",
    "times = {\n",
    "\"CTRL_5DIZ_A1_10_07_2023-10_28\" : [0, 30],\n",
    "\"CTRL_5DIZ_A1_17_07_2023-10_27\" : [0, 30],\n",
    "\"CTRL_5DIZ_A1_17_07_2023-11_39\" : [0, 30],\n",
    "\"CTRL_5DIZ_A1_17_07_2023-12_49\" : [0, 30],\n",
    "\"CTRL_5DIZ_A2_17_07_2023-10_27\" : [1, 31],\n",
    "\"CTRL_5DIZ_A2_17_07_2023-11_39\" : [2, 32],\n",
    "\"CTRL_5DIZ_A2_17_07_2023-12_49\" : [2, 32],\n",
    "\"CTRL_5DIZ_A3_17_07_2023-10_27\" : [3, 33],\n",
    "\"CTRL_5DIZ_A3_17_07_2023-11_39\" : [5, 35],\n",
    "\"CTRL_5DIZ_A3_17_07_2023-12_49\" : [4, 34],\n",
    "\"CTRL_5DIZ_A4_17_07_2023-10_27\" : [5, 35],\n",
    "\"CTRL_5DIZ_A4_17_07_2023-11_39\" : [6, 36],\n",
    "\"CTRL_5DIZ_A4_17_07_2023-12_49\" : [6, 36]\n",
    "}\n",
    "\n",
    "all_treatments = fileio.load_multiple_folders(path)\n",
    "\n",
    "for treatment_name, treatment_path in all_treatments.items():\n",
    "    START, END = times[treatment_name]\n",
    "    START = START * 60 * 24\n",
    "    END = END * 60 *24\n",
    "    group = fileio.load_files_from_folder(treatment_path)\n",
    "\n",
    "    for fly_name, fly_path in group.items():\n",
    "        df = pd.read_csv(fly_path)\n",
    "        # print(len(df)/1440)\n",
    "        df = df.iloc[START:END, :]\n",
    "        df = df.reset_index()\n",
    "        # if len(df)/1440 < 30:\n",
    "        #     print(treatment_name)\n",
    "        df.to_csv(fly_path)"
   ]
  }
 ],
 "metadata": {
  "kernelspec": {
   "display_name": ".env",
   "language": "python",
   "name": "python3"
  },
  "language_info": {
   "codemirror_mode": {
    "name": "ipython",
    "version": 3
   },
   "file_extension": ".py",
   "mimetype": "text/x-python",
   "name": "python",
   "nbconvert_exporter": "python",
   "pygments_lexer": "ipython3",
   "version": "3.8.10"
  },
  "orig_nbformat": 4
 },
 "nbformat": 4,
 "nbformat_minor": 2
}
