{
 "cells": [
  {
   "cell_type": "code",
   "execution_count": 2,
   "metadata": {},
   "outputs": [
    {
     "name": "stdout",
     "output_type": "stream",
     "text": [
      "96.76666666666667\n",
      "54.4\n",
      "71.56666666666666\n",
      "91.36666666666666\n",
      "96.36666666666666\n",
      "76.9\n",
      "76.26666666666667\n",
      "98.46666666666667\n",
      "70.1\n",
      "66.0\n",
      "51.3\n",
      "69.53333333333333\n",
      "101.43333333333334\n",
      "86.7\n",
      "84.36666666666666\n",
      "103.26666666666667\n",
      "87.16666666666667\n",
      "119.96666666666667\n",
      "84.53333333333333\n",
      "101.43333333333334\n",
      "118.66666666666667\n",
      "86.7\n",
      "76.23333333333333\n"
     ]
    }
   ],
   "source": [
    "import networkx as nx\n",
    "import numpy as np\n",
    "\n",
    "def calculate_strength(g, weight_value):\n",
    "    graph_freq = {}\n",
    "    nodes = list(g.nodes)\n",
    "    for node in nodes:\n",
    "        edges = list(g.edges(node, data=True))\n",
    "        freq = 0\n",
    "        for edge in edges:\n",
    "            (edge_a, edge_b, data) = edge\n",
    "            freq += data[weight_value]\n",
    "\n",
    "        graph_freq.update({node: freq})\n",
    "    ave_strength_value = np.mean([k for k in graph_freq.values()])\n",
    "\n",
    "    return ave_strength_value\n",
    "\n",
    "path =\"/home/milky/drosophila-SNA/data/processed/1_2_create_total_graph/CsCh/CsCh_A1_05_05_2023-11_21.gml\"\n",
    "\n",
    "g = nx.read_gml(path)\n",
    "\n",
    "strength = calculate_strength(g, \"count\")"
   ]
  }
 ],
 "metadata": {
  "kernelspec": {
   "display_name": ".env",
   "language": "python",
   "name": "python3"
  },
  "language_info": {
   "codemirror_mode": {
    "name": "ipython",
    "version": 3
   },
   "file_extension": ".py",
   "mimetype": "text/x-python",
   "name": "python",
   "nbconvert_exporter": "python",
   "pygments_lexer": "ipython3",
   "version": "3.8.10"
  }
 },
 "nbformat": 4,
 "nbformat_minor": 2
}
