{
 "cells": [
  {
   "cell_type": "code",
   "execution_count": 2,
   "metadata": {},
   "outputs": [
    {
     "name": "stdout",
     "output_type": "stream",
     "text": [
      "96.76666666666667\n",
      "54.4\n",
      "71.56666666666666\n",
      "91.36666666666666\n",
      "96.36666666666666\n",
      "76.9\n",
      "76.26666666666667\n",
      "98.46666666666667\n",
      "70.1\n",
      "66.0\n",
      "51.3\n",
      "69.53333333333333\n",
      "101.43333333333334\n",
      "86.7\n",
      "84.36666666666666\n",
      "103.26666666666667\n",
      "87.16666666666667\n",
      "119.96666666666667\n",
      "84.53333333333333\n",
      "101.43333333333334\n",
      "118.66666666666667\n",
      "86.7\n",
      "76.23333333333333\n"
     ]
    }
   ],
   "source": [
    "import os\n",
    "import pandas as pd\n",
    "\n",
    "from src import settings\n",
    "from src.utils import fileio\n",
    "\n",
    "TREATMENT = \"CsCh\"\n",
    "INPUT_DIR = os.path.join(settings.OUTPUT_DIR, \"1_0_find_interactions\", TREATMENT)\n",
    "treatment = fileio.load_files_from_folder(INPUT_DIR)\n",
    "\n",
    "for name, path in treatment.items():\n",
    "    df = pd.read_csv(path)\n",
    "    \n",
    "    print(len(df)/30)"
   ]
  }
 ],
 "metadata": {
  "kernelspec": {
   "display_name": ".env",
   "language": "python",
   "name": "python3"
  },
  "language_info": {
   "codemirror_mode": {
    "name": "ipython",
    "version": 3
   },
   "file_extension": ".py",
   "mimetype": "text/x-python",
   "name": "python",
   "nbconvert_exporter": "python",
   "pygments_lexer": "ipython3",
   "version": "3.8.10"
  }
 },
 "nbformat": 4,
 "nbformat_minor": 2
}
