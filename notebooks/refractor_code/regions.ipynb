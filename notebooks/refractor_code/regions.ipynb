{
 "cells": [
  {
   "cell_type": "code",
   "execution_count": 2,
   "metadata": {},
   "outputs": [],
   "source": []
  },
  {
   "cell_type": "code",
   "execution_count": 1,
   "metadata": {},
   "outputs": [
    {
     "ename": "NameError",
     "evalue": "name 'np' is not defined",
     "output_type": "error",
     "traceback": [
      "\u001b[0;31m---------------------------------------------------------------------------\u001b[0m",
      "\u001b[0;31mNameError\u001b[0m                                 Traceback (most recent call last)",
      "Cell \u001b[0;32mIn[1], line 97\u001b[0m\n\u001b[1;32m     94\u001b[0m CIRCLE_RADIUS \u001b[38;5;241m=\u001b[39m \u001b[38;5;241m0.5\u001b[39m  \u001b[38;5;66;03m# Radius of the circle\u001b[39;00m\n\u001b[1;32m     95\u001b[0m HEXAGON_SIDE \u001b[38;5;241m=\u001b[39m \u001b[38;5;241m0.13\u001b[39m  \u001b[38;5;66;03m# Change this value to control the hexagon side size\u001b[39;00m\n\u001b[0;32m---> 97\u001b[0m x_coords, y_coords \u001b[38;5;241m=\u001b[39m \u001b[43mgenerate_hexagonal_lattice\u001b[49m\u001b[43m(\u001b[49m\u001b[43mCIRCLE_RADIUS\u001b[49m\u001b[43m,\u001b[49m\u001b[43m \u001b[49m\u001b[43mHEXAGON_SIDE\u001b[49m\u001b[43m)\u001b[49m\n\u001b[1;32m     98\u001b[0m labeled_hexagons_coords \u001b[38;5;241m=\u001b[39m plot_hexagonal_lattice(x_coords, y_coords, HEXAGON_SIDE, CIRCLE_RADIUS)\n\u001b[1;32m    100\u001b[0m given_x \u001b[38;5;241m=\u001b[39m \u001b[38;5;241m0.5\u001b[39m\n",
      "Cell \u001b[0;32mIn[1], line 5\u001b[0m, in \u001b[0;36mgenerate_hexagonal_lattice\u001b[0;34m(circle_radius, hexagon_side)\u001b[0m\n\u001b[1;32m      3\u001b[0m y_coords \u001b[38;5;241m=\u001b[39m []\n\u001b[1;32m      4\u001b[0m max_x \u001b[38;5;241m=\u001b[39m \u001b[38;5;28mint\u001b[39m(circle_radius \u001b[38;5;241m/\u001b[39m (\u001b[38;5;241m1.5\u001b[39m \u001b[38;5;241m*\u001b[39m hexagon_side)) \u001b[38;5;241m+\u001b[39m \u001b[38;5;241m1\u001b[39m\n\u001b[0;32m----> 5\u001b[0m max_y \u001b[38;5;241m=\u001b[39m \u001b[38;5;28mint\u001b[39m(circle_radius \u001b[38;5;241m/\u001b[39m (\u001b[43mnp\u001b[49m\u001b[38;5;241m.\u001b[39msqrt(\u001b[38;5;241m3\u001b[39m) \u001b[38;5;241m*\u001b[39m hexagon_side)) \u001b[38;5;241m+\u001b[39m \u001b[38;5;241m1\u001b[39m\n\u001b[1;32m      6\u001b[0m \u001b[38;5;28;01mfor\u001b[39;00m i \u001b[38;5;129;01min\u001b[39;00m \u001b[38;5;28mrange\u001b[39m(\u001b[38;5;241m-\u001b[39mmax_x, max_x \u001b[38;5;241m+\u001b[39m \u001b[38;5;241m1\u001b[39m):\n\u001b[1;32m      7\u001b[0m     \u001b[38;5;28;01mfor\u001b[39;00m j \u001b[38;5;129;01min\u001b[39;00m \u001b[38;5;28mrange\u001b[39m(\u001b[38;5;241m-\u001b[39mmax_y, max_y \u001b[38;5;241m+\u001b[39m \u001b[38;5;241m1\u001b[39m):\n",
      "\u001b[0;31mNameError\u001b[0m: name 'np' is not defined"
     ]
    }
   ],
   "source": [
    "import pandas as pd\n",
    "import numpy as np\n",
    "import matplotlib.pyplot as plt \n",
    "\n",
    "path = r'/home/milky/drosophila-SNA/data/processed/0_0_preproc_data/CsCh/CsCh_A1_05_05_2023-11_21/fly1.csv'\n",
    "\n",
    "df = pd.read_csv(path)\n",
    "\n",
    "def generate_hexagonal_lattice(circle_radius, hexagon_side):\n",
    "    x_coords = []\n",
    "    y_coords = []\n",
    "    max_x = int(circle_radius / (1.5 * hexagon_side)) + 1\n",
    "    max_y = int(circle_radius / (np.sqrt(3) * hexagon_side)) + 1\n",
    "    for i in range(-max_x, max_x + 1):\n",
    "        for j in range(-max_y, max_y + 1):\n",
    "            x = 1.5 * hexagon_side * i\n",
    "            y = np.sqrt(3) * hexagon_side * (j + 0.5 * (i % 2))\n",
    "            x_coords.append(x + 0.5)\n",
    "            y_coords.append(y + 0.5)\n",
    "    return x_coords, y_coords\n",
    "\n",
    "\n",
    "def is_inside_circle(x, y, circle_radius):\n",
    "    # Function to check if a point (x, y) is inside the circle\n",
    "    return (x - 0.5)**2 + (y - 0.5)**2 <= circle_radius**2\n",
    "\n",
    "def plot_hexagonal_lattice(x_coords, y_coords, hexagon_side, circle_radius):\n",
    "    plt.figure()\n",
    "    ax = plt.gca()\n",
    "    ax.set_aspect('equal')\n",
    "\n",
    "    labeled_hexagons_coords = []  # List to store the coordinates of labeled hexagons\n",
    "    counter = 1\n",
    "    for idx, (i, j) in enumerate(zip(x_coords, y_coords), 1):\n",
    "        hexagon_in_circle = any(is_inside_circle(i + hexagon_side * np.cos(k * np.pi / 3),\n",
    "                                                 j + hexagon_side * np.sin(k * np.pi / 3),\n",
    "                                                 circle_radius) for k in range(6))\n",
    "        if hexagon_in_circle:\n",
    "            labeled_hexagons_coords.append((i, j))  # Append coordinates to the list\n",
    "\n",
    "            for k in range(6):\n",
    "                x1 = i + hexagon_side * np.cos(k * np.pi / 3)\n",
    "                y1 = j + hexagon_side * np.sin(k * np.pi / 3)\n",
    "                x2 = i + hexagon_side * np.cos((k + 1) * np.pi / 3)\n",
    "                y2 = j + hexagon_side * np.sin((k + 1) * np.pi / 3)\n",
    "                plt.plot([x1, x2], [y1, y2], 'k-')\n",
    "\n",
    "            # Adding the numerical label at the center of each hexagon inside/partly inside the circle\n",
    "            label_x = i\n",
    "            label_y = j\n",
    "            plt.text(label_x, label_y, str(counter), ha='center', va='center', fontsize=10)\n",
    "            counter += 1\n",
    "\n",
    "    circle = plt.Circle((0.5, 0.5), circle_radius, color='r', fill=False)\n",
    "    ax.add_patch(circle)\n",
    "\n",
    "    plt.xlim(-0.1, 1.1)\n",
    "    plt.ylim(-0.15, 1.15)\n",
    "    plt.xlabel('X')\n",
    "    plt.ylabel('Y')\n",
    "    # plt.title(f'Hexagonal Lattice with Circle')\n",
    "    # plt.grid()\n",
    "    plt.show()\n",
    "\n",
    "    return labeled_hexagons_coords\n",
    "\n",
    "\n",
    "def point_in_hexagon(x, y, hexagon_center_x, hexagon_center_y, hexagon_side):\n",
    "    # Define the vertices of the hexagon\n",
    "    hexagon_vertices = []\n",
    "    for k in range(6):\n",
    "        angle = k * np.pi / 3\n",
    "        vertex_x = hexagon_center_x + hexagon_side * np.cos(angle)\n",
    "        vertex_y = hexagon_center_y + hexagon_side * np.sin(angle)\n",
    "        hexagon_vertices.append((vertex_x, vertex_y))\n",
    "    \n",
    "    # Check if the point is inside the hexagon using the point-in-polygon algorithm\n",
    "    num_vertices = len(hexagon_vertices)\n",
    "    j = num_vertices - 1\n",
    "    odd_nodes = False\n",
    "    for i in range(num_vertices):\n",
    "        if (hexagon_vertices[i][1] < y and hexagon_vertices[j][1] >= y) or \\\n",
    "           (hexagon_vertices[j][1] < y and hexagon_vertices[i][1] >= y):\n",
    "            if hexagon_vertices[i][0] + (y - hexagon_vertices[i][1]) / \\\n",
    "               (hexagon_vertices[j][1] - hexagon_vertices[i][1]) * \\\n",
    "               (hexagon_vertices[j][0] - hexagon_vertices[i][0]) < x:\n",
    "                odd_nodes = not odd_nodes\n",
    "        j = i\n",
    "    \n",
    "    return odd_nodes\n",
    "\n",
    "def find_lattice_label(x, y, x_coords, y_coords, hexagon_side, circle_radius):\n",
    "    for idx, (i, j) in enumerate(zip(x_coords, y_coords), 1):\n",
    "        hexagon_in_circle = any(is_inside_circle(i + hexagon_side * np.cos(k * np.pi / 3),\n",
    "                                                 j + hexagon_side * np.sin(k * np.pi / 3),\n",
    "                                                 circle_radius) for k in range(6))\n",
    "        if hexagon_in_circle and point_in_hexagon(x, y, i, j, hexagon_side):\n",
    "            return idx\n",
    "    return None\n",
    "\n",
    "if __name__ == \"__main__\":\n",
    "    CIRCLE_RADIUS = 0.5  # Radius of the circle\n",
    "    HEXAGON_SIDE = 0.13  # Change this value to control the hexagon side size\n",
    "\n",
    "    x_coords, y_coords = generate_hexagonal_lattice(CIRCLE_RADIUS, HEXAGON_SIDE)\n",
    "    labeled_hexagons_coords = plot_hexagonal_lattice(x_coords, y_coords, HEXAGON_SIDE, CIRCLE_RADIUS)\n",
    "\n",
    "    given_x = 0.5\n",
    "    given_y = 0.5\n",
    "    lattice_label = find_lattice_label(given_x, given_y, x_coords, y_coords, HEXAGON_SIDE, CIRCLE_RADIUS)\n",
    "\n",
    "    print(lattice_label)"
   ]
  },
  {
   "cell_type": "code",
   "execution_count": 83,
   "metadata": {},
   "outputs": [
    {
     "name": "stdout",
     "output_type": "stream",
     "text": [
      "18\n"
     ]
    }
   ],
   "source": [
    "if __name__ == \"__main__\":\n",
    "    CIRCLE_RADIUS = 0.5  # Radius of the circle\n",
    "    HEXAGON_SIDE = 0.15  # Change this value to control the hexagon side size\n",
    "\n",
    "    x_coords, y_coords = generate_hexagonal_lattice(CIRCLE_RADIUS, HEXAGON_SIDE)\n",
    "    labeled_hexagons_coords = plot_hexagonal_lattice(x_coords, y_coords, HEXAGON_SIDE, CIRCLE_RADIUS)\n",
    "\n",
    "    given_x = 0.5\n",
    "    given_y = 0.5\n",
    "    lattice_label = find_lattice_label(given_x, given_y, x_coords, y_coords, HEXAGON_SIDE, CIRCLE_RADIUS)\n",
    "\n",
    "    print(lattice_label)"
   ]
  },
  {
   "cell_type": "code",
   "execution_count": 87,
   "metadata": {},
   "outputs": [
    {
     "data": {
      "text/plain": [
       "[(0.050000000000000044, 0.24019237886466843),\n",
       " (0.050000000000000044, 0.5),\n",
       " (0.050000000000000044, 0.7598076211353315),\n",
       " (0.275, 0.11028856829700262),\n",
       " (0.275, 0.37009618943233424),\n",
       " (0.275, 0.6299038105676658),\n",
       " (0.275, 0.8897114317029974),\n",
       " (0.5, -0.019615242270663136),\n",
       " (0.5, 0.24019237886466843),\n",
       " (0.5, 0.5),\n",
       " (0.5, 0.7598076211353315),\n",
       " (0.5, 1.019615242270663),\n",
       " (0.725, 0.11028856829700262),\n",
       " (0.725, 0.37009618943233424),\n",
       " (0.725, 0.6299038105676658),\n",
       " (0.725, 0.8897114317029974),\n",
       " (0.95, 0.24019237886466843),\n",
       " (0.95, 0.5),\n",
       " (0.95, 0.7598076211353315)]"
      ]
     },
     "execution_count": 87,
     "metadata": {},
     "output_type": "execute_result"
    }
   ],
   "source": [
    "labeled_hexagons_coords"
   ]
  }
 ],
 "metadata": {
  "kernelspec": {
   "display_name": ".env",
   "language": "python",
   "name": "python3"
  },
  "language_info": {
   "codemirror_mode": {
    "name": "ipython",
    "version": 3
   },
   "file_extension": ".py",
   "mimetype": "text/x-python",
   "name": "python",
   "nbconvert_exporter": "python",
   "pygments_lexer": "ipython3",
   "version": "3.8.10"
  },
  "orig_nbformat": 4
 },
 "nbformat": 4,
 "nbformat_minor": 2
}
