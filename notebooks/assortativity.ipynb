{
 "cells": [
  {
   "cell_type": "code",
   "execution_count": 10,
   "metadata": {},
   "outputs": [
    {
     "name": "stdout",
     "output_type": "stream",
     "text": [
      "-0.0\n",
      "-0.1\n",
      "-0.0\n",
      "-0.1\n",
      "-0.1\n",
      "-0.1\n",
      "-0.1\n",
      "-0.1\n",
      "-0.1\n",
      "-0.0\n",
      "-0.1\n",
      "-0.1\n",
      "-0.1\n",
      "-0.1\n",
      "-0.1\n",
      "-0.1\n",
      "-0.1\n",
      "-0.1\n",
      "-0.0\n",
      "-0.1\n"
     ]
    },
    {
     "ename": "SystemExit",
     "evalue": "",
     "output_type": "error",
     "traceback": [
      "An exception has occurred, use %tb to see the full traceback.\n",
      "\u001b[0;31mSystemExit\u001b[0m\n"
     ]
    },
    {
     "name": "stderr",
     "output_type": "stream",
     "text": [
      "/home/milky/drosophila-SNA/.env/lib/python3.8/site-packages/IPython/core/interactiveshell.py:3516: UserWarning: To exit: use 'exit', 'quit', or Ctrl-D.\n",
      "  warn(\"To exit: use 'exit', 'quit', or Ctrl-D.\", stacklevel=1)\n"
     ]
    }
   ],
   "source": [
    "import os, sys\n",
    "\n",
    "import networkx as nx\n",
    "import pandas as pd\n",
    "\n",
    "from src import settings\n",
    "from src.utils import fileio, graph_utils\n",
    "\n",
    "\n",
    "TREATMENTS = ['CS_10D', 'CsCh', 'Cs_5DIZ', 'LDA_5DIZ', 'OCT_5DIZ', 'LDA_OCT_5DIZ'] \n",
    "\n",
    "for TREATMENT in TREATMENTS: \n",
    "\n",
    "    INPUT_DIR = os.path.join(settings.OUTPUT_DIR, \"1_2_create_total_graph\", TREATMENT)\n",
    "    # SCRIPT_OUTPUT = os.path.join(settings.RESULTS_DIR, \"global_measures\")\n",
    "    # os.makedirs(SCRIPT_OUTPUT, exist_ok=True)\n",
    "\n",
    "    graphs = fileio.load_files_from_folder(INPUT_DIR, file_format=\".gml\")\n",
    "\n",
    "    total = pd.DataFrame()\n",
    "    for group_name, group_path in graphs.items():\n",
    "        G = nx.read_gml(group_path)\n",
    "        \n",
    "        r = nx.degree_pearson_correlation_coefficient(G, weight='count')\n",
    "        print(f\"{r:3.1f}\")\n",
    "\n",
    "    sys.exit()  \n",
    "    \n",
    "    total = pd.concat([total, df], axis=1)\n",
    "    SAVE_PATH = os.path.join(SCRIPT_OUTPUT, f\"{TREATMENT}.csv\")\n",
    "    total = total.T\n",
    "    # total.to_csv(SAVE_PATH)"
   ]
  }
 ],
 "metadata": {
  "kernelspec": {
   "display_name": ".env",
   "language": "python",
   "name": "python3"
  },
  "language_info": {
   "codemirror_mode": {
    "name": "ipython",
    "version": 3
   },
   "file_extension": ".py",
   "mimetype": "text/x-python",
   "name": "python",
   "nbconvert_exporter": "python",
   "pygments_lexer": "ipython3",
   "version": "3.8.10"
  }
 },
 "nbformat": 4,
 "nbformat_minor": 2
}
