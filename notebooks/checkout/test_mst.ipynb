{
 "cells": [
  {
   "cell_type": "code",
   "execution_count": 1,
   "metadata": {},
   "outputs": [
    {
     "ename": "FileNotFoundError",
     "evalue": "[Errno 2] No such file or directory: ''",
     "output_type": "error",
     "traceback": [
      "\u001b[0;31m---------------------------------------------------------------------------\u001b[0m",
      "\u001b[0;31mFileNotFoundError\u001b[0m                         Traceback (most recent call last)",
      "Cell \u001b[0;32mIn[1], line 13\u001b[0m\n\u001b[1;32m     10\u001b[0m TREATMENT \u001b[38;5;241m=\u001b[39m \u001b[38;5;124m\"\u001b[39m\u001b[38;5;124m\"\u001b[39m\n\u001b[1;32m     12\u001b[0m path_fly_data \u001b[38;5;241m=\u001b[39m \u001b[38;5;124m\"\u001b[39m\u001b[38;5;124m\"\u001b[39m\n\u001b[0;32m---> 13\u001b[0m fly_dict \u001b[38;5;241m=\u001b[39m \u001b[43mfileio\u001b[49m\u001b[38;5;241;43m.\u001b[39;49m\u001b[43mload_files_from_folder\u001b[49m\u001b[43m(\u001b[49m\u001b[43mpath_fly_data\u001b[49m\u001b[43m)\u001b[49m\n\u001b[1;32m     15\u001b[0m df_flies_vel \u001b[38;5;241m=\u001b[39m pd\u001b[38;5;241m.\u001b[39mDataFrame()\n\u001b[1;32m     16\u001b[0m \u001b[38;5;28;01mfor\u001b[39;00m fly_name, fly_path \u001b[38;5;129;01min\u001b[39;00m fly_dict\u001b[38;5;241m.\u001b[39mitems():\n",
      "File \u001b[0;32m~/drosophila-isolation/src/utils/fileio.py:85\u001b[0m, in \u001b[0;36mload_files_from_folder\u001b[0;34m(path, file_format, n_sort)\u001b[0m\n\u001b[1;32m     69\u001b[0m \u001b[38;5;28;01mdef\u001b[39;00m \u001b[38;5;21mload_files_from_folder\u001b[39m(path, file_format\u001b[38;5;241m=\u001b[39m\u001b[38;5;124m\"\u001b[39m\u001b[38;5;124m.csv\u001b[39m\u001b[38;5;124m\"\u001b[39m, n_sort\u001b[38;5;241m=\u001b[39m\u001b[38;5;28;01mFalse\u001b[39;00m):\n\u001b[1;32m     70\u001b[0m \u001b[38;5;250m    \u001b[39m\u001b[38;5;124;03m\"\"\"\u001b[39;00m\n\u001b[1;32m     71\u001b[0m \u001b[38;5;124;03m    Loads files of a specific format from a folder into a dictionary.\u001b[39;00m\n\u001b[1;32m     72\u001b[0m \n\u001b[0;32m   (...)\u001b[0m\n\u001b[1;32m     82\u001b[0m \u001b[38;5;124;03m    SystemExit: If the directory is empty.\u001b[39;00m\n\u001b[1;32m     83\u001b[0m \u001b[38;5;124;03m    \"\"\"\u001b[39;00m\n\u001b[0;32m---> 85\u001b[0m     \u001b[38;5;28;01mif\u001b[39;00m \u001b[38;5;129;01mnot\u001b[39;00m \u001b[43mos\u001b[49m\u001b[38;5;241;43m.\u001b[39;49m\u001b[43mlistdir\u001b[49m\u001b[43m(\u001b[49m\u001b[43mpath\u001b[49m\u001b[43m)\u001b[49m: sys\u001b[38;5;241m.\u001b[39mexit(\u001b[38;5;124m\"\u001b[39m\u001b[38;5;124mDirectory is empty\u001b[39m\u001b[38;5;124m\"\u001b[39m)\n\u001b[1;32m     87\u001b[0m     files_dict \u001b[38;5;241m=\u001b[39m {}\n\u001b[1;32m     89\u001b[0m     \u001b[38;5;28;01mfor\u001b[39;00m r, d, f \u001b[38;5;129;01min\u001b[39;00m os\u001b[38;5;241m.\u001b[39mwalk(path):\n",
      "\u001b[0;31mFileNotFoundError\u001b[0m: [Errno 2] No such file or directory: ''"
     ]
    }
   ],
   "source": [
    "import pandas as pd\n",
    "import numpy as np\n",
    "import networkx as nx\n",
    "import sys\n",
    "import matplotlib.pyplot as plt\n",
    "from itertools import combinations\n",
    "from src.utils import fileio\n",
    "from matplotlib.patches import Circle\n",
    "\n",
    "TREATMENT = \"\"\n",
    "\n",
    "path_fly_data = \"\"\n",
    "fly_dict = fileio.load_files_from_folder(path_fly_data)\n",
    "\n",
    "df_flies_vel = pd.DataFrame()\n",
    "for fly_name, fly_path in fly_dict.items():\n",
    "    df = pd.read_csv(fly_path, index_col=0)\n",
    "    fly_columns = df[[\"pos x\", \"pos y\"]]\n",
    "    fly_columns.columns = [f\"{fly_name}_pos_x\", f\"{fly_name}_pos_y\"]\n",
    "    df_flies_vel = pd.concat([df_flies_vel, fly_columns], axis=1)\n",
    "\n",
    "n = 2222\n",
    "row_n_data = df_flies_vel.iloc[n]\n",
    "\n",
    "fly_x_coordinates = [row_n_data[f\"{fly}_pos_x\"] for fly in fly_dict.keys()]\n",
    "fly_y_coordinates = [row_n_data[f\"{fly}_pos_y\"] for fly in fly_dict.keys()]\n",
    "\n",
    "plt.scatter(fly_x_coordinates, fly_y_coordinates, marker=\"o\", label=\"Fly Positions\")\n",
    "circle_center = (30.5, 30.5)\n",
    "circle_diameter = 61\n",
    "circle_radius = circle_diameter / 2\n",
    "circle = Circle(circle_center, circle_radius, color=\"red\", fill=False, label=\"Arena\")\n",
    "plt.gca().add_patch(circle)\n",
    "\n",
    "plt.title(f\"Fly Positions at frame: {n}\")\n",
    "plt.xlabel(\"X Position\")\n",
    "plt.ylabel(\"Y Position\")\n",
    "plt.legend()\n",
    "plt.show()"
   ]
  }
 ],
 "metadata": {
  "kernelspec": {
   "display_name": ".env",
   "language": "python",
   "name": "python3"
  },
  "language_info": {
   "codemirror_mode": {
    "name": "ipython",
    "version": 3
   },
   "file_extension": ".py",
   "mimetype": "text/x-python",
   "name": "python",
   "nbconvert_exporter": "python",
   "pygments_lexer": "ipython3",
   "version": "3.8.10"
  }
 },
 "nbformat": 4,
 "nbformat_minor": 2
}
