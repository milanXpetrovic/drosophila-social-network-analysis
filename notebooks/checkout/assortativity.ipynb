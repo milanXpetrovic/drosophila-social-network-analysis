{
 "cells": [
  {
   "cell_type": "markdown",
   "metadata": {},
   "source": [
    "# Assortativity \n",
    "\n",
    "\n",
    "```python\n",
    "        standard_deviation_degree = round(np.std(deg_list))\n",
    "        degree_heterogeneity = standard_deviation_degree / average_degree\n",
    "        degree_assortativity = nx.degree_assortativity_coefficient(g)\n",
    "```"
   ]
  },
  {
   "cell_type": "code",
   "execution_count": 3,
   "metadata": {},
   "outputs": [
    {
     "ename": "SystemExit",
     "evalue": "",
     "output_type": "error",
     "traceback": [
      "An exception has occurred, use %tb to see the full traceback.\n",
      "\u001b[0;31mSystemExit\u001b[0m\n"
     ]
    },
    {
     "name": "stderr",
     "output_type": "stream",
     "text": [
      "/home/milky/drosophila-isolation/.venv/lib/python3.8/site-packages/IPython/core/interactiveshell.py:3516: UserWarning: To exit: use 'exit', 'quit', or Ctrl-D.\n",
      "  warn(\"To exit: use 'exit', 'quit', or Ctrl-D.\", stacklevel=1)\n"
     ]
    }
   ],
   "source": [
    "import os, sys\n",
    "\n",
    "import networkx as nx\n",
    "import pandas as pd\n",
    "\n",
    "from src import settings\n",
    "from src.utils import fileio, graph_utils\n",
    "\n",
    "\n",
    "config = fileio.get_config(settings.CONFIG_NAME)\n",
    "\n",
    "TREATMENTS = config[\"TREATMENTS\"]\n",
    "\n",
    "for TREATMENT in TREATMENTS:\n",
    "    INPUT_DIR = os.path.join(settings.OUTPUT_DIR, \"1_2_create_total_graph\", TREATMENT)\n",
    "    # SCRIPT_OUTPUT = os.path.join(settings.RESULTS_DIR, \"global_measures\")\n",
    "    # os.makedirs(SCRIPT_OUTPUT, exist_ok=True)\n",
    "\n",
    "    graphs = fileio.load_files_from_folder(INPUT_DIR, file_format=\".gml\")\n",
    "\n",
    "    total = pd.DataFrame()\n",
    "    c = 0\n",
    "    for group_name, group_path in graphs.items():\n",
    "        G = nx.read_gml(group_path)\n",
    "\n",
    "        print(nx.degree_assortativity_coefficient(G, weight=\"count\"))\n",
    "        print(nx.degree_assortativity_coefficient(G, weight=\"total_interaction_times\"))\n",
    "\n",
    "    total = pd.concat([total, df], axis=1)\n",
    "    # SAVE_PATH = os.path.join(SCRIPT_OUTPUT, f\"{TREATMENT}.csv\")\n",
    "    # total = total.T\n",
    "    # total.to_csv(SAVE_PATH)"
   ]
  },
  {
   "cell_type": "code",
   "execution_count": 202,
   "metadata": {},
   "outputs": [
    {
     "name": "stdout",
     "output_type": "stream",
     "text": [
      "nan\n",
      "-0.005945806021566113\n",
      "-0.005945806021566113\n",
      "nan\n"
     ]
    }
   ],
   "source": []
  }
 ],
 "metadata": {
  "kernelspec": {
   "display_name": ".env",
   "language": "python",
   "name": "python3"
  },
  "language_info": {
   "codemirror_mode": {
    "name": "ipython",
    "version": 3
   },
   "file_extension": ".py",
   "mimetype": "text/x-python",
   "name": "python",
   "nbconvert_exporter": "python",
   "pygments_lexer": "ipython3",
   "version": "3.8.10"
  }
 },
 "nbformat": 4,
 "nbformat_minor": 2
}
