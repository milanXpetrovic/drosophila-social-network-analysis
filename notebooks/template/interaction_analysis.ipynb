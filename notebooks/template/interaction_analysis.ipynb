{
 "cells": [
  {
   "cell_type": "markdown",
   "metadata": {},
   "source": [
    "# Distance traveled and amount of interactions"
   ]
  },
  {
   "cell_type": "code",
   "execution_count": 1,
   "metadata": {},
   "outputs": [],
   "source": [
    "import os, sys\n",
    "import toml\n",
    "from src import settings\n",
    "import pandas as pd\n",
    "import seaborn as sns\n",
    "import matplotlib.pyplot as plt\n",
    "from src.utils import fileio\n",
    "\n",
    "CONFIG_PATH = os.path.join(settings.CONFIG_DIR, \"main.toml\")\n",
    "with open(CONFIG_PATH, \"r\") as file:\n",
    "    config = toml.load(file)\n",
    "    \n",
    "TIME_WINDOW=config[\"TIME_WINDOW\"]\n",
    "\n",
    "INPUT_PATH = os.path.join(settings.RESULTS_DIR, \"distances_traveled\")\n",
    "all_treatments = fileio.load_multiple_folders(INPUT_PATH)\n",
    "all_treatments = {key: value for key, value in all_treatments.items() if key in config[\"TREATMENTS\"]}\n",
    "\n",
    "treatment_dataframes = []\n",
    "for treatment_name, treatment_path in all_treatments.items():\n",
    "    all_groups = fileio.load_files_from_folder(treatment_path)\n",
    "    group_dataframes = []\n",
    "    for group_name, df_path in all_groups.items():\n",
    "        df = pd.read_csv(df_path, index_col=0)  \n",
    "        df['Snapshot'] = (df.index / config[\"FPS\"] / TIME_WINDOW).astype(int) + 1\n",
    "        df['Group'] = group_name.replace(\".csv\",\"\")\n",
    "        group_dataframes.append(df)\n",
    "\n",
    "    df = pd.concat(group_dataframes)\n",
    "    df.set_index('Snapshot', inplace=True)\n",
    "    df.set_index('Group', append=True, inplace=True)\n",
    "    df['Treatment'] = treatment_name\n",
    "    df.set_index('Treatment', append=True, inplace=True)\n",
    "    df = df.reorder_levels(['Treatment', 'Group', 'Snapshot'])\n",
    "  \n",
    "    treatment_dataframes.append(df)\n",
    "    \n",
    "data = pd.concat(treatment_dataframes)\n",
    "data = data.groupby(['Treatment', 'Group']).sum()\n",
    "data = data.stack(level=0).reset_index(level=[0, 1])\n",
    "data.reset_index(inplace=True)\n",
    "data.columns = ['Fly_name', 'Treatment', 'Group', 'Distance']\n",
    "data = data[['Treatment', 'Group', 'Fly_name', 'Distance']]"
   ]
  },
  {
   "cell_type": "code",
   "execution_count": 43,
   "metadata": {},
   "outputs": [
    {
     "ename": "SystemExit",
     "evalue": "",
     "output_type": "error",
     "traceback": [
      "An exception has occurred, use %tb to see the full traceback.\n",
      "\u001b[0;31mSystemExit\u001b[0m\n"
     ]
    },
    {
     "name": "stderr",
     "output_type": "stream",
     "text": [
      "/home/milky/drosophila-SNA/.env/lib/python3.8/site-packages/IPython/core/interactiveshell.py:3516: UserWarning: To exit: use 'exit', 'quit', or Ctrl-D.\n",
      "  warn(\"To exit: use 'exit', 'quit', or Ctrl-D.\", stacklevel=1)\n"
     ]
    }
   ],
   "source": [
    "INPUT_PATH = \"/home/milky/drosophila-SNA/data/processed/1_0_find_interactions/\"\n",
    "all_treatments = fileio.load_multiple_folders(INPUT_PATH)\n",
    "all_treatments = {key: value for key, value in all_treatments.items() if key in config[\"TREATMENTS\"]}\n",
    "\n",
    "treatment_dataframes = []\n",
    "for treatment_name, treatment_path in all_treatments.items():\n",
    "    all_groups = fileio.load_files_from_folder(treatment_path)\n",
    "    group_dataframes = []\n",
    "    for group_name, df_path in all_groups.items():\n",
    "        df = pd.read_csv(df_path, index_col=0)  \n",
    "        df = df[\"node_1\"]\n",
    "        counts = df.value_counts()\n",
    "        df['Group'] = group_name.replace(\".csv\",\"\")\n",
    "\n",
    "        group_dataframes.append(df)\n",
    "        sys.exit()"
   ]
  },
  {
   "cell_type": "code",
   "execution_count": 46,
   "metadata": {},
   "outputs": [
    {
     "data": {
      "text/plain": [
       "node_1\n",
       "fly11    327\n",
       "fly4     323\n",
       "fly12    315\n",
       "fly10    302\n",
       "fly1     280\n",
       "fly8     280\n",
       "fly9     277\n",
       "fly5     259\n",
       "fly6     240\n",
       "fly3     233\n",
       "fly7     227\n",
       "fly2     210\n",
       "Name: count, dtype: int64"
      ]
     },
     "execution_count": 46,
     "metadata": {},
     "output_type": "execute_result"
    }
   ],
   "source": [
    "\n",
    "counts.columns = [\"coounts\"]\n",
    "counts"
   ]
  }
 ],
 "metadata": {
  "kernelspec": {
   "display_name": ".env",
   "language": "python",
   "name": "python3"
  },
  "language_info": {
   "codemirror_mode": {
    "name": "ipython",
    "version": 3
   },
   "file_extension": ".py",
   "mimetype": "text/x-python",
   "name": "python",
   "nbconvert_exporter": "python",
   "pygments_lexer": "ipython3",
   "version": "3.8.10"
  }
 },
 "nbformat": 4,
 "nbformat_minor": 2
}
