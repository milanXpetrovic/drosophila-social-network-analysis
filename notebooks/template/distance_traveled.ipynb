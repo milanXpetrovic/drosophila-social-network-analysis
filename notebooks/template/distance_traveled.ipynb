{
 "cells": [
  {
   "cell_type": "code",
   "execution_count": 2,
   "metadata": {},
   "outputs": [
    {
     "ename": "SystemExit",
     "evalue": "/srv/milky/drosophila-datasets/fragileX/data/results/distances_traveled is invalid path!",
     "output_type": "error",
     "traceback": [
      "An exception has occurred, use %tb to see the full traceback.\n",
      "\u001b[0;31mSystemExit\u001b[0m\u001b[0;31m:\u001b[0m /srv/milky/drosophila-datasets/fragileX/data/results/distances_traveled is invalid path!\n"
     ]
    },
    {
     "name": "stderr",
     "output_type": "stream",
     "text": [
      "/home/milky/Envs/fragileX/lib/python3.8/site-packages/IPython/core/interactiveshell.py:3516: UserWarning: To exit: use 'exit', 'quit', or Ctrl-D.\n",
      "  warn(\"To exit: use 'exit', 'quit', or Ctrl-D.\", stacklevel=1)\n"
     ]
    }
   ],
   "source": [
    "import os\n",
    "import toml\n",
    "import scipy.stats\n",
    "\n",
    "import numpy as np\n",
    "import pandas as pd\n",
    "import seaborn as sns\n",
    "import matplotlib.pyplot as plt\n",
    "\n",
    "# from statsmodels.stats.multicomp import pairwise_tukeyhsd\n",
    "\n",
    "from src import settings\n",
    "from src.utils import fileio\n",
    "\n",
    "CONFIG_PATH = os.path.join(settings.CONFIG_DIR, \"main.toml\")\n",
    "with open(CONFIG_PATH, \"r\") as file:\n",
    "    config = toml.load(file)\n",
    "    \n",
    "INPUT_PATH = os.path.join(settings.RESULTS_DIR, \"distances_traveled\")\n",
    "\n",
    "all_treatments = fileio.load_multiple_folders(INPUT_PATH)\n",
    "all_treatments = {key: value for key, value in all_treatments.items() if key in config[\"TREATMENTS\"]}\n",
    "\n",
    "treatment_dataframes = []\n",
    "for treatment_name, treatment_path in all_treatments.items():\n",
    "    all_groups = fileio.load_files_from_folder(treatment_path)\n",
    "    group_dataframes = []\n",
    "    for group_name, df_path in all_groups.items():\n",
    "        df = pd.read_csv(df_path, index_col=0)  \n",
    "        df['Snapshot'] = (df.index / config[\"FPS\"] / config[\"TIME_WINDOW\"]).astype(int) + 1\n",
    "        df['Group'] = group_name.replace(\".csv\",\"\")\n",
    "        group_dataframes.append(df)\n",
    "\n",
    "    df = pd.concat(group_dataframes)\n",
    "    df.set_index('Snapshot', inplace=True)\n",
    "    df.set_index('Group', append=True, inplace=True)\n",
    "    df['Treatment'] = treatment_name\n",
    "    df.set_index('Treatment', append=True, inplace=True)\n",
    "    df = df.reorder_levels(['Treatment', 'Group', 'Snapshot'])\n",
    "  \n",
    "    treatment_dataframes.append(df)\n",
    "\n",
    "\n",
    "combined_data = pd.concat(treatment_dataframes)\n",
    "combined_data_reset = combined_data.groupby(['Treatment', 'Group']).sum()\n",
    "combined_data_reset = combined_data_reset.stack().reset_index().rename(columns={'level_2': 'Fly', 0: 'Distance'})\n",
    "combined_data_reset['Distance'] = combined_data_reset['Distance'] / config['EXPERIMENT_DURATION']\n",
    "\n",
    "treatment_sums = {}\n",
    "# for treatment in config[\"TREATMENTS\"]:\n",
    "   \n",
    "sns.violinplot(data=combined_data_reset, x='Treatment', y='Distance', hue='Treatment', dodge=False)\n",
    "# sns.pointplot(data=combined_data_reset, x='Treatment', y='Distance', color='black', markers='o', linestyles='', estimator='mean')\n",
    "# sns.stripplot(data=combined_data_reset, x='Treatment', y='Distance', hue='Treatment', alpha=0.5)\n",
    "\n",
    "plt.title('Movement speed per treatment')\n",
    "# plt.legend(loc='center left', bbox_to_anchor=(1, 0.5), title=\"Treatment\")\n",
    "plt.xlabel(\"Treatment name\")\n",
    "plt.ylabel(\"Movement (mm/s)\")\n",
    "plt.xticks(rotation=45)\n",
    "plt.legend().remove()\n",
    "plt.ylim(0, 15)\n",
    "plt.show()"
   ]
  },
  {
   "cell_type": "code",
   "execution_count": 4,
   "metadata": {},
   "outputs": [
    {
     "ename": "NameError",
     "evalue": "name 'all_groups' is not defined",
     "output_type": "error",
     "traceback": [
      "\u001b[0;31m---------------------------------------------------------------------------\u001b[0m",
      "\u001b[0;31mNameError\u001b[0m                                 Traceback (most recent call last)",
      "Cell \u001b[0;32mIn[4], line 1\u001b[0m\n\u001b[0;32m----> 1\u001b[0m \u001b[43mall_groups\u001b[49m\n",
      "\u001b[0;31mNameError\u001b[0m: name 'all_groups' is not defined"
     ]
    }
   ],
   "source": [
    "all_groups"
   ]
  }
 ],
 "metadata": {
  "kernelspec": {
   "display_name": ".env",
   "language": "python",
   "name": "python3"
  },
  "language_info": {
   "codemirror_mode": {
    "name": "ipython",
    "version": 3
   },
   "file_extension": ".py",
   "mimetype": "text/x-python",
   "name": "python",
   "nbconvert_exporter": "python",
   "pygments_lexer": "ipython3",
   "version": "3.8.10"
  }
 },
 "nbformat": 4,
 "nbformat_minor": 2
}
