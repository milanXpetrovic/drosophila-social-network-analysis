{
 "cells": [
  {
   "cell_type": "markdown",
   "metadata": {},
   "source": [
    "# Plot of flies moving in arena"
   ]
  },
  {
   "cell_type": "code",
   "execution_count": null,
   "metadata": {},
   "outputs": [],
   "source": [
    "import os\n",
    "import pandas as pd\n",
    "import matplotlib.pyplot as plt\n",
    "\n",
    "from src import settings\n",
    "from src.utils import fileio\n",
    "\n",
    "\n",
    "config = fileio.get_config(settings.CONFIG_NAME)\n",
    "\n",
    "OUTPUT_DIR = os.path.join(settings.REPORTS_DIR, \"figures\", \"trajectories\")\n",
    "os.makedirs(OUTPUT_DIR, exist_ok=True)\n",
    "\n",
    "\n",
    "for TREATMENT_NAME in config[\"TREATMENTS\"]:\n",
    "    treatment_path = os.path.join(settings.OUTPUT_DIR, \"0_0_preproc_data\", TREATMENT_NAME)\n",
    "\n",
    "    treatment = fileio.load_multiple_folders(treatment_path)\n",
    "    subplots_per_row = 4\n",
    "    num_groups = len(treatment)\n",
    "    num_rows = (num_groups + subplots_per_row - 1) // subplots_per_row\n",
    "    fig, axes = plt.subplots(num_rows, subplots_per_row, figsize=(9, num_rows * 2))\n",
    "\n",
    "    fig.suptitle(TREATMENT_NAME, fontsize=16)\n",
    "    for i, (group_name, group_path) in enumerate(treatment.items()):\n",
    "        row_idx = i // subplots_per_row\n",
    "        col_idx = i % subplots_per_row\n",
    "        ax = axes[row_idx, col_idx]\n",
    "\n",
    "        fly_dict = fileio.load_files_from_folder(group_path)\n",
    "        ax.set_title(f\"{group_name}\", fontsize=8)\n",
    "\n",
    "        for fly_name, fly_path in fly_dict.items():\n",
    "            fly_data = pd.read_csv(fly_path)\n",
    "            ax.plot(fly_data[\"pos x\"], fly_data[\"pos y\"], alpha=0.2)\n",
    "            ax.set_aspect(\"equal\")\n",
    "\n",
    "    for i in range(len(treatment), num_rows * subplots_per_row):\n",
    "        row_idx = i // subplots_per_row\n",
    "        col_idx = i % subplots_per_row\n",
    "        fig.delaxes(axes[row_idx, col_idx])\n",
    "\n",
    "    plt.tight_layout()\n",
    "    save_path = os.path.join(OUTPUT_DIR, f\"{TREATMENT_NAME}.png\")\n",
    "    plt.savefig(save_path)\n",
    "    plt.show()"
   ]
  }
 ],
 "metadata": {
  "kernelspec": {
   "display_name": ".env",
   "language": "python",
   "name": "python3"
  },
  "language_info": {
   "codemirror_mode": {
    "name": "ipython",
    "version": 3
   },
   "file_extension": ".py",
   "mimetype": "text/x-python",
   "name": "python",
   "nbconvert_exporter": "python",
   "pygments_lexer": "ipython3",
   "version": "3.8.10"
  }
 },
 "nbformat": 4,
 "nbformat_minor": 2
}
