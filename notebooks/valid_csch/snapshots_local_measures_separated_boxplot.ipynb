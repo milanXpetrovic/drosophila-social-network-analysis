{
 "cells": [
  {
   "cell_type": "code",
   "execution_count": null,
   "metadata": {},
   "outputs": [],
   "source": [
    "import os\n",
    "import toml\n",
    "from src import settings\n",
    "import pandas as pd\n",
    "import seaborn as sns\n",
    "import matplotlib.pyplot as plt\n",
    "from src.utils import fileio\n",
    "\n",
    "CONFIG_PATH = os.path.join(settings.CONFIG_DIR, \"main.toml\")\n",
    "with open(CONFIG_PATH, \"r\") as file:\n",
    "    config = toml.load(file)\n",
    "TIME_WINDOW=config[\"TIME_WINDOW\"]\n",
    "INPUT_PATH = os.path.join(settings.RESULTS_DIR, \"local_measures_snapshots\", f\"{TIME_WINDOW}_sec_window/\")\n",
    "all_treatments = fileio.load_multiple_folders(INPUT_PATH)\n",
    "all_treatments = {key: value for key, value in all_treatments.items() if key in config[\"TREATMENTS\"]}\n",
    "\n",
    "dataframes = []\n",
    "for treatment_name, treatment_path in all_treatments.items():\n",
    "    all_groups = fileio.load_multiple_folders(treatment_path)\n",
    "    treatment_dataframes = []\n",
    "    for group_name, group_path in all_groups.items():\n",
    "        all_snapshots = fileio.load_files_from_folder(group_path)\n",
    "        group_dataframes = []  # Create a list to store DataFrames for each group\n",
    "        for snapshot_name, snapshot_path in all_snapshots.items():\n",
    "            df = pd.read_csv(snapshot_path, index_col=0) \n",
    "            df['Snapshot'] = snapshot_name.replace('.csv', '')\n",
    "            df['Group'] = group_name\n",
    "            group_dataframes.append(df)  # Append the DataFrame to the list for the group\n",
    "        group_combined_df = pd.concat(group_dataframes)  # Combine DataFrames for the group\n",
    "        treatment_dataframes.append(group_combined_df)  # Append the combined DataFrame to the list\n",
    "\n",
    "    combined_df = pd.concat(treatment_dataframes)\n",
    "    combined_df = combined_df.set_index(['Group'], append=True)\n",
    "    combined_df.index.names = ['Fly', 'Group']\n",
    "    combined_df = combined_df.reorder_levels(['Fly', 'Group'])\n",
    "    combined_df['Treatment'] = treatment_name\n",
    "    combined_df = combined_df.set_index('Treatment', append=True)\n",
    "    dataframes.append(combined_df)\n",
    "\n",
    "combined_data = pd.concat(dataframes)\n",
    "\n",
    "combined_data_reset = combined_data.reset_index()\n",
    "for measure_name in combined_data.columns:\n",
    "    plt.figure(figsize=(8, 3))\n",
    "    sns.boxplot(data=combined_data_reset, x=\"Snapshot\", y=measure_name, hue=\"Treatment\")\n",
    "    plt.xlabel(\"Snapshot\")\n",
    "    plt.ylabel(measure_name)\n",
    "    plt.title(f'Distribution of {measure_name}')\n",
    "    plt.legend(bbox_to_anchor=(1.0, 0.7), loc='upper left')\n",
    "    plt.show()"
   ]
  },
  {
   "cell_type": "code",
   "execution_count": 7,
   "metadata": {},
   "outputs": [
    {
     "data": {
      "text/plain": [
       "{'CsCh': '/home/milky/drosophila-SNA/data/results/local_measures_snapshots/120_sec_window/CsCh'}"
      ]
     },
     "execution_count": 7,
     "metadata": {},
     "output_type": "execute_result"
    }
   ],
   "source": [
    "all_treatments"
   ]
  }
 ],
 "metadata": {
  "kernelspec": {
   "display_name": ".env",
   "language": "python",
   "name": "python3"
  },
  "language_info": {
   "codemirror_mode": {
    "name": "ipython",
    "version": 3
   },
   "file_extension": ".py",
   "mimetype": "text/x-python",
   "name": "python",
   "nbconvert_exporter": "python",
   "pygments_lexer": "ipython3",
   "version": "3.8.10"
  },
  "orig_nbformat": 4
 },
 "nbformat": 4,
 "nbformat_minor": 2
}
