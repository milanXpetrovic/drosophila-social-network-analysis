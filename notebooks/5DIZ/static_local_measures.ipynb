{
 "cells": [
  {
   "cell_type": "code",
   "execution_count": 1,
   "metadata": {},
   "outputs": [
    {
     "ename": "SystemExit",
     "evalue": "Directory is empty",
     "output_type": "error",
     "traceback": [
      "An exception has occurred, use %tb to see the full traceback.\n",
      "\u001b[0;31mSystemExit\u001b[0m\u001b[0;31m:\u001b[0m Directory is empty\n"
     ]
    },
    {
     "name": "stderr",
     "output_type": "stream",
     "text": [
      "/home/milky/drosophila-SNA/.env/lib/python3.8/site-packages/IPython/core/interactiveshell.py:3516: UserWarning: To exit: use 'exit', 'quit', or Ctrl-D.\n",
      "  warn(\"To exit: use 'exit', 'quit', or Ctrl-D.\", stacklevel=1)\n"
     ]
    }
   ],
   "source": [
    "import os\n",
    "import toml\n",
    "import pandas as pd\n",
    "import seaborn as sns\n",
    "from itertools import combinations\n",
    "import matplotlib.pyplot as plt\n",
    "from scipy.stats import ttest_ind\n",
    "\n",
    "from src import settings\n",
    "from src.utils import fileio\n",
    "\n",
    "CONFIG_PATH = os.path.join(settings.CONFIG_DIR, \"main.toml\")\n",
    "with open(CONFIG_PATH, \"r\") as file:\n",
    "    config = toml.load(file)  \n",
    "INPUT_PATH = os.path.join(settings.RESULTS_DIR, \"local_measures\")\n",
    "all_treatments = fileio.load_multiple_folders(INPUT_PATH)\n",
    "treatment_dataframes = pd.DataFrame()\n",
    "for treatment_name, treatment_path in all_treatments.items():\n",
    "    all_groups = fileio.load_files_from_folder(treatment_path)\n",
    "\n",
    "    for group_name, group_path in all_groups.items():\n",
    "        df = pd.read_csv(group_path, index_col=0)\n",
    "        df.rename_axis(\"Fly\")\n",
    "        df['Treatment'] = treatment_name\n",
    "        df['Group'] = group_name.replace(\".csv\", \"\")\n",
    "        treatment_dataframes = pd.concat([treatment_dataframes, df])\n",
    "\n",
    "treatment_dataframes = treatment_dataframes.set_index('Treatment', append=True)\n",
    "treatment_dataframes = treatment_dataframes.set_index('Group',append=True)\n",
    "\n",
    "combined_data_reset = treatment_dataframes.reset_index()\n",
    "for measure_name in treatment_dataframes.columns:\n",
    "    plt.figure(figsize=(7, 3))\n",
    "    sns.boxplot(data=combined_data_reset, x=\"Treatment\", y=measure_name)\n",
    "    plt.xlabel(\"Treatment\")\n",
    "    plt.ylabel(measure_name)\n",
    "    plt.title(f'Distribution of {measure_name}')\n",
    "    plt.show()"
   ]
  }
 ],
 "metadata": {
  "kernelspec": {
   "display_name": ".env",
   "language": "python",
   "name": "python3"
  },
  "language_info": {
   "codemirror_mode": {
    "name": "ipython",
    "version": 3
   },
   "file_extension": ".py",
   "mimetype": "text/x-python",
   "name": "python",
   "nbconvert_exporter": "python",
   "pygments_lexer": "ipython3",
   "version": "3.8.10"
  },
  "orig_nbformat": 4
 },
 "nbformat": 4,
 "nbformat_minor": 2
}
