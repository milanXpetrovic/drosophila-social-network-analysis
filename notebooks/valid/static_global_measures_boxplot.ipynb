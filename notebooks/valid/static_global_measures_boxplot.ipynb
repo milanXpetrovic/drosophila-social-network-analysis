{
 "cells": [
  {
   "cell_type": "code",
   "execution_count": null,
   "metadata": {},
   "outputs": [],
   "source": [
    "import os\n",
    "import toml\n",
    "import pandas as pd\n",
    "import seaborn as sns\n",
    "from itertools import combinations\n",
    "import matplotlib.pyplot as plt\n",
    "from scipy.stats import ttest_ind\n",
    "\n",
    "from src import settings\n",
    "from src.utils import fileio\n",
    "\n",
    "CONFIG_PATH = os.path.join(settings.CONFIG_DIR, \"main.toml\")\n",
    "with open(CONFIG_PATH, \"r\") as file:\n",
    "    config = toml.load(file)  \n",
    "INPUT_PATH = os.path.join(settings.RESULTS_DIR, \"global_measures\")\n",
    "all_treatments = fileio.load_files_from_folder(INPUT_PATH)\n",
    "treatment_dataframes = pd.DataFrame()\n",
    "for treatmen_name, treatment_path in all_treatments.items():\n",
    "    df = pd.read_csv(treatment_path).rename(columns={\"Unnamed: 0\": \"Group\"})\n",
    "    df['Treatment'] = treatmen_name.replace(\".csv\", \"\") \n",
    "    treatment_dataframes = pd.concat([treatment_dataframes, df])\n",
    "\n",
    "treatments = treatment_dataframes.Treatment.unique()\n",
    "treatment_dataframes = treatment_dataframes.set_index('Treatment')\n",
    "treatment_dataframes = treatment_dataframes.set_index('Group', append=True)\n",
    "\n",
    "combined_data_reset = treatment_dataframes.reset_index()\n",
    "for measure_name in treatment_dataframes.columns:\n",
    "    plt.figure(figsize=(7, 3))\n",
    "    sns.boxplot(data=combined_data_reset, x=\"Treatment\", y=measure_name)\n",
    "    plt.xlabel(\"Treatment\")\n",
    "    plt.ylabel(measure_name)\n",
    "    plt.title(f'Distribution of {measure_name}')\n",
    "    plt.legend(bbox_to_anchor=(1.0, 0.7), loc='upper left')\n",
    "    plt.show()"
   ]
  }
 ],
 "metadata": {
  "kernelspec": {
   "display_name": ".env",
   "language": "python",
   "name": "python3"
  },
  "language_info": {
   "codemirror_mode": {
    "name": "ipython",
    "version": 3
   },
   "file_extension": ".py",
   "mimetype": "text/x-python",
   "name": "python",
   "nbconvert_exporter": "python",
   "pygments_lexer": "ipython3",
   "version": "3.8.10"
  },
  "orig_nbformat": 4
 },
 "nbformat": 4,
 "nbformat_minor": 2
}
