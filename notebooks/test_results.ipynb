{
 "cells": [
  {
   "cell_type": "code",
   "execution_count": 1,
   "metadata": {
    "execution": {
     "iopub.execute_input": "2023-07-18T19:42:33.037333Z",
     "iopub.status.busy": "2023-07-18T19:42:33.036862Z",
     "iopub.status.idle": "2023-07-18T19:42:33.043733Z",
     "shell.execute_reply": "2023-07-18T19:42:33.043297Z"
    }
   },
   "outputs": [
    {
     "name": "stdout",
     "output_type": "stream",
     "text": [
      "this is a test script\n"
     ]
    }
   ],
   "source": [
    "print(\"this is a test script\")"
   ]
  }
 ],
 "metadata": {
  "language_info": {
   "codemirror_mode": {
    "name": "ipython",
    "version": 3
   },
   "file_extension": ".py",
   "mimetype": "text/x-python",
   "name": "python",
   "nbconvert_exporter": "python",
   "pygments_lexer": "ipython3",
   "version": "3.8.10"
  }
 },
 "nbformat": 4,
 "nbformat_minor": 2
}
