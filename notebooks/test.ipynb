{
 "cells": [
  {
   "cell_type": "code",
   "execution_count": 8,
   "metadata": {},
   "outputs": [
    {
     "name": "stdout",
     "output_type": "stream",
     "text": [
      "CsCh_A4_21_04_2023-11_54.csv - 690\n",
      "CsCh_A1_25_05_2023-12_44.csv - 765\n",
      "CsCh_A1_24_05_2023-12_27.csv - 633\n",
      "CsCh_A3_24_05_2023-12_27.csv - 510\n",
      "CsCh_A1_05_05_2023-11_21.csv - 801\n",
      "CsCh_A3_20_04_2023-11_45.csv - 782\n",
      "CsCh_A3_25_05_2023-12_44.csv - 621\n",
      "CsCh_A2_19_04_2023-12_08.csv - 547\n",
      "CsCh_A4_21_04_2023-11_08.csv - 775\n",
      "CsCh_A3_21_04_2023-11_08.csv - 949\n",
      "CsCh_A2_25_05_2023-12_44.csv - 538\n",
      "CsCh_A4_25_05_2023-12_44.csv - 640\n",
      "CsCh_A1_24_05_2023-11_32.csv - 602\n",
      "CsCh_A3_28_04_2023-11_20.csv - 564\n",
      "CsCh_A1_21_04_2023-11_54.csv - 631\n",
      "CsCh_A2_28_04_2023-11_20.csv - 657\n",
      "CsCh_A2_20_04_2023-11_45.csv - 663\n",
      "CsCh_A4_28_04_2023-11_20.csv - 799\n",
      "CsCh_A3_24_05_2023-11_32.csv - 623\n",
      "CsCh_A4_24_05_2023-12_27.csv - 643\n"
     ]
    }
   ],
   "source": [
    "import matplotlib.pyplot as plt\n",
    "import numpy as np\n",
    "import seaborn as sns\n",
    "import networkx as nx\n",
    "from src.utils import fileio\n",
    "import pandas as pd\n",
    "path = \"/home/milky/drosophila-SNA/data/processed/1_0_find_interactions/CsCh\"\n",
    "all_groups = fileio.load_files_from_folder(path)\n",
    "\n",
    "for group_name, group_path in all_groups.items():\n",
    "    df = pd.read_csv(group_path)\n",
    "        \n",
    "    print(f\"{group_name} - {len(df)}\")\n"
   ]
  },
  {
   "cell_type": "code",
   "execution_count": 6,
   "metadata": {},
   "outputs": [
    {
     "name": "stdout",
     "output_type": "stream",
     "text": [
      "<class 'float'>\n"
     ]
    }
   ],
   "source": [
    "import toml\n",
    "\n",
    "group_norm_path=\"/home/milky/drosophila-SNA/data/normalization/CsCh/CsCh_A1_05_05_2023-11_21.toml\"\n",
    "with open(group_norm_path, \"r\") as group_norm:\n",
    "    toml_data = toml.load(group_norm)\n",
    "\n",
    "print(type(toml_data[\"y_px_ratio\"]))"
   ]
  }
 ],
 "metadata": {
  "kernelspec": {
   "display_name": "drosophilaSNA",
   "language": "python",
   "name": "python3"
  },
  "language_info": {
   "codemirror_mode": {
    "name": "ipython",
    "version": 3
   },
   "file_extension": ".py",
   "mimetype": "text/x-python",
   "name": "python",
   "nbconvert_exporter": "python",
   "pygments_lexer": "ipython3",
   "version": "3.8.10"
  },
  "orig_nbformat": 4
 },
 "nbformat": 4,
 "nbformat_minor": 2
}
