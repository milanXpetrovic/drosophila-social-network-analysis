{
 "cells": [
  {
   "cell_type": "code",
   "execution_count": null,
   "metadata": {},
   "outputs": [],
   "source": [
    "import pandas as pd\n",
    "from src.utils import fileio\n",
    "import matplotlib.pyplot as plt\n",
    "\n",
    "path = '/home/milky/drosophila-SNA/data/processed/0_0_preproc_data/CsCh'\n",
    "treatment = fileio.load_multiple_folders(path)\n",
    "\n",
    "for group_name, group_path in treatment.items():\n",
    "    fly_dict = fileio.load_files_from_folder(group_path)\n",
    "\n",
    "    for fly_name, fly_path in fly_dict.items():\n",
    "        df = pd.read_csv(fly_path)\n",
    "        plt.plot(df['pos x'], df['pos y'])\n",
    "\n",
    "plt.show()\n"
   ]
  },
  {
   "cell_type": "code",
   "execution_count": 2,
   "metadata": {},
   "outputs": [
    {
     "name": "stdout",
     "output_type": "stream",
     "text": [
      "CsCh_A1_24_05_2023-12_27.csv.gml 83\n",
      "CsCh_A3_24_05_2023-12_27.csv.gml 74\n",
      "CsCh_A4_24_05_2023-12_27.csv.gml 85\n",
      "CsCh_A4_28_04_2023-11_20.csv.gml 88\n",
      "CsCh_A1_25_05_2023-12_44.csv.gml 84\n",
      "CsCh_A4_21_04_2023-11_08.csv.gml 91\n",
      "CsCh_A1_05_05_2023-11_21.csv.gml 96\n",
      "CsCh_A2_19_04_2023-12_08.csv.gml 84\n",
      "CsCh_A3_20_04_2023-11_45.csv.gml 84\n",
      "CsCh_A3_21_04_2023-11_08.csv.gml 99\n",
      "CsCh_A1_21_04_2023-11_54.csv.gml 74\n",
      "CsCh_A2_28_04_2023-11_20.csv.gml 83\n",
      "CsCh_A4_21_04_2023-11_54.csv.gml 83\n",
      "CsCh_A2_25_05_2023-12_44.csv.gml 66\n",
      "CsCh_A3_28_04_2023-11_20.csv.gml 85\n",
      "CsCh_A4_25_05_2023-12_44.csv.gml 79\n",
      "CsCh_A3_25_05_2023-12_44.csv.gml 76\n",
      "CsCh_A2_20_04_2023-11_45.csv.gml 83\n",
      "CsCh_A1_24_05_2023-11_32.csv.gml 76\n",
      "CsCh_A3_24_05_2023-11_32.csv.gml 86\n"
     ]
    }
   ],
   "source": [
    "from src.utils import fileio\n",
    "import networkx as nx\n",
    "path=\"/home/milky/drosophila-SNA/data/processed/1_2_create_total_graph/CsCh\"\n",
    "\n",
    "all_graphs=fileio.load_files_from_folder(path, '.gml')\n",
    "\n",
    "for g_name, g_path in all_graphs.items():\n",
    "    g = nx.read_gml(g_path)\n",
    "    print(g_name, g.number_of_edges())"
   ]
  },
  {
   "cell_type": "code",
   "execution_count": 6,
   "metadata": {},
   "outputs": [
    {
     "name": "stdout",
     "output_type": "stream",
     "text": [
      "CsCh_A1_24_05_2023-12_27.csv.gml 83\n",
      "CsCh_A3_24_05_2023-12_27.csv.gml 74\n",
      "CsCh_A4_24_05_2023-12_27.csv.gml 85\n",
      "CsCh_A4_28_04_2023-11_20.csv.gml 88\n",
      "CsCh_A1_25_05_2023-12_44.csv.gml 84\n",
      "CsCh_A4_21_04_2023-11_08.csv.gml 91\n",
      "CsCh_A1_05_05_2023-11_21.csv.gml 96\n",
      "CsCh_A2_19_04_2023-12_08.csv.gml 84\n",
      "CsCh_A3_20_04_2023-11_45.csv.gml 84\n",
      "CsCh_A3_21_04_2023-11_08.csv.gml 99\n",
      "CsCh_A1_21_04_2023-11_54.csv.gml 74\n",
      "CsCh_A2_28_04_2023-11_20.csv.gml 83\n",
      "CsCh_A4_21_04_2023-11_54.csv.gml 83\n",
      "CsCh_A2_25_05_2023-12_44.csv.gml 66\n",
      "CsCh_A3_28_04_2023-11_20.csv.gml 85\n",
      "CsCh_A4_25_05_2023-12_44.csv.gml 79\n",
      "CsCh_A3_25_05_2023-12_44.csv.gml 76\n",
      "CsCh_A2_20_04_2023-11_45.csv.gml 83\n",
      "CsCh_A1_24_05_2023-11_32.csv.gml 76\n",
      "CsCh_A3_24_05_2023-11_32.csv.gml 86\n"
     ]
    }
   ],
   "source": [
    "from src.utils import fileio\n",
    "import networkx as nx\n",
    "path=\"/home/milky/drosophila-SNA/data/processed/1_2_create_total_graph/CsCh\"\n",
    "\n",
    "all_graphs=fileio.load_files_from_folder(path, '.gml')\n",
    "\n",
    "for g_name, g_path in all_graphs.items():\n",
    "    g = nx.read_gml(g_path)\n",
    "    print(g_name, g.number_of_edges())"
   ]
  }
 ],
 "metadata": {
  "kernelspec": {
   "display_name": "drosophilaSNA",
   "language": "python",
   "name": "python3"
  },
  "language_info": {
   "codemirror_mode": {
    "name": "ipython",
    "version": 3
   },
   "file_extension": ".py",
   "mimetype": "text/x-python",
   "name": "python",
   "nbconvert_exporter": "python",
   "pygments_lexer": "ipython3",
   "version": "3.8.10"
  },
  "orig_nbformat": 4
 },
 "nbformat": 4,
 "nbformat_minor": 2
}
