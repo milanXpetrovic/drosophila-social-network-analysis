{
 "cells": [
  {
   "cell_type": "code",
   "execution_count": 73,
   "metadata": {},
   "outputs": [],
   "source": [
    "from src.utils import fileio\n",
    "import scipy.io\n",
    "import pandas as pd\n",
    "import os\n",
    "\n",
    "PATH = \"\"\n",
    "SAVE_PATH = \"\"\n",
    "TREATMENT = \"\"\n",
    "\n",
    "trackings = fileio.load_multiple_folders(PATH)\n",
    "\n",
    "for group_name, group_path in trackings.items():\n",
    "    group_save_path = f\"{SAVE_PATH}/{TREATMENT}/{group_name}\"\n",
    "    os.makedirs(group_save_path, exist_ok=True)\n",
    "\n",
    "    group = fileio.load_files_from_folder(trackings[group_name], file_format=\".mat\")\n",
    "    target_keys = [key for key in group.keys() if \"track\" in key]\n",
    "    mat_data = scipy.io.loadmat(group[target_keys[0]])\n",
    "\n",
    "    cols = pd.DataFrame(mat_data[\"trk\"][0][0][0][0])\n",
    "    cols = [value[0] for value in cols[0].to_list()]\n",
    "\n",
    "    for i in range(len(mat_data[\"trk\"][0][0][1])):\n",
    "        data = pd.DataFrame(mat_data[\"trk\"][0][0][1][i])\n",
    "        data.columns = cols\n",
    "        fly_name = f\"{SAVE_PATH}/{TREATMENT}/{group_name}/fly_{i+1}.csv\"\n",
    "        data.to_csv(fly_name)"
   ]
  }
 ],
 "metadata": {
  "kernelspec": {
   "display_name": ".env",
   "language": "python",
   "name": "python3"
  },
  "language_info": {
   "codemirror_mode": {
    "name": "ipython",
    "version": 3
   },
   "file_extension": ".py",
   "mimetype": "text/x-python",
   "name": "python",
   "nbconvert_exporter": "python",
   "pygments_lexer": "ipython3",
   "version": "3.8.10"
  }
 },
 "nbformat": 4,
 "nbformat_minor": 2
}
