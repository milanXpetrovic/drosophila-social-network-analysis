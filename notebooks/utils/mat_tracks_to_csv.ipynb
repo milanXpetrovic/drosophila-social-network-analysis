{
 "cells": [
  {
   "cell_type": "code",
   "execution_count": 73,
   "metadata": {},
   "outputs": [],
   "source": [
    "from src.utils import fileio\n",
    "import scipy.io\n",
    "import pandas as pd\n",
    "import os\n",
    "\n",
    "PATH = \"/srv/milky/matlab/recordings/Cs_5DIZ\"\n",
    "SAVE_PATH = \"/home/milky/drosophila-SNA/data/trackings\"\n",
    "TREATMENT = \"Cs_5DIZ\"\n",
    "\n",
    "trackings = fileio.load_multiple_folders(PATH)\n",
    "\n",
    "for group_name, group_path in trackings.items():\n",
    "    group_save_path = f\"{SAVE_PATH}/{TREATMENT}/{group_name}\"\n",
    "    os.makedirs(group_save_path, exist_ok=True)\n",
    "\n",
    "    group = fileio.load_files_from_folder(trackings[group_name], file_format='.mat')\n",
    "    target_keys = [key for key in group.keys() if \"track\" in key]\n",
    "    mat_data = scipy.io.loadmat(group[target_keys[0]])\n",
    "\n",
    "    cols = pd.DataFrame(mat_data['trk'][0][0][0][0])\n",
    "    cols = [value[0] for value in cols[0].to_list()]\n",
    "\n",
    "    for i in range(len(mat_data['trk'][0][0][1])):\n",
    "        data = pd.DataFrame(mat_data['trk'][0][0][1][i])\n",
    "        data.columns = cols\n",
    "        fly_name = f\"{SAVE_PATH}/{TREATMENT}/{group_name}/fly_{i+1}.csv\"\n",
    "        data.to_csv(fly_name)\n",
    "        \n"
   ]
  },
  {
   "cell_type": "code",
   "execution_count": 65,
   "metadata": {},
   "outputs": [
    {
     "name": "stdout",
     "output_type": "stream",
     "text": [
      "0\n"
     ]
    },
    {
     "ename": "SystemExit",
     "evalue": "",
     "output_type": "error",
     "traceback": [
      "An exception has occurred, use %tb to see the full traceback.\n",
      "\u001b[0;31mSystemExit\u001b[0m\n"
     ]
    },
    {
     "name": "stderr",
     "output_type": "stream",
     "text": [
      "/home/milky/drosophila-SNA/.env/lib/python3.8/site-packages/IPython/core/interactiveshell.py:3516: UserWarning: To exit: use 'exit', 'quit', or Ctrl-D.\n",
      "  warn(\"To exit: use 'exit', 'quit', or Ctrl-D.\", stacklevel=1)\n"
     ]
    }
   ],
   "source": [
    "\n",
    "\n",
    "\n",
    "\n"
   ]
  }
 ],
 "metadata": {
  "kernelspec": {
   "display_name": ".env",
   "language": "python",
   "name": "python3"
  },
  "language_info": {
   "codemirror_mode": {
    "name": "ipython",
    "version": 3
   },
   "file_extension": ".py",
   "mimetype": "text/x-python",
   "name": "python",
   "nbconvert_exporter": "python",
   "pygments_lexer": "ipython3",
   "version": "3.8.10"
  }
 },
 "nbformat": 4,
 "nbformat_minor": 2
}
