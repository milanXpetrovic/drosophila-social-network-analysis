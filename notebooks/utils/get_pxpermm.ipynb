{
 "cells": [
  {
   "cell_type": "code",
   "execution_count": null,
   "metadata": {},
   "outputs": [],
   "source": [
    "from src.utils import fileio\n",
    "\n",
    "PATH = \"/home/milky/drosophila-SNA/data/normalization/Cs_5DIZ\"\n",
    "\n",
    "\n",
    "normalizations = "
   ]
  }
 ],
 "metadata": {
  "language_info": {
   "name": "python"
  }
 },
 "nbformat": 4,
 "nbformat_minor": 2
}
