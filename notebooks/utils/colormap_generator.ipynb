{
 "cells": [
  {
   "cell_type": "code",
   "execution_count": 36,
   "metadata": {},
   "outputs": [
    {
     "name": "stdout",
     "output_type": "stream",
     "text": [
      "Hex codes for magma palette with number of colors: 6 \n",
      "\n",
      "['#fcfdbf', '#fe9f6d', '#de4968', '#8c2981', '#3b0f70', '#000004']\n"
     ]
    },
    {
     "data": {
      "image/png": "[encoded data removed]",
      "text/plain": [
       "<Figure size 600x100 with 1 Axes>"
      ]
     },
     "metadata": {},
     "output_type": "display_data"
    },
    {
     "data": {
      "image/png": "[encoded data removed]",
      "text/plain": [
       "<Figure size 600x100 with 1 Axes>"
      ]
     },
     "metadata": {},
     "output_type": "display_data"
    }
   ],
   "source": [
    "import matplotlib.pyplot as plt\n",
    "import matplotlib.colors as mcolors\n",
    "import numpy as np\n",
    "\n",
    "def generate_palette(palette_name, n):\n",
    "    cmap = plt.get_cmap(palette_name)\n",
    "    colors = [mcolors.to_hex(cmap(i / (n - 1))) for i in range(n)]\n",
    "    colors.reverse()\n",
    "    return colors\n",
    "\n",
    "num_colors = 6\n",
    "palette_name = 'magma'\n",
    "colors = generate_palette(palette_name, num_colors)\n",
    "\n",
    "print(f\"Hex codes for {palette_name} palette with number of colors: {num_colors} \\n\")\n",
    "\n",
    "print(colors)\n",
    "\n",
    "fig, ax = plt.subplots(figsize=(len(colors), 1))\n",
    "dummy_img = np.arange(len(colors)).reshape(1, -1)\n",
    "ax.set_xticks(np.arange(num_colors) + 0.5)\n",
    "ax.set_xticklabels([f'{i}' for i in colors])\n",
    "ax.set_yticks([])\n",
    "ax.imshow(dummy_img, cmap=plt.cm.colors.ListedColormap(colors), aspect='auto', extent=(0, len(colors), 0, 1))\n",
    "plt.show()\n",
    "\n",
    "grayscale_colors = [np.mean([int(c[i:i+2], 16) for i in (1, 3, 5)]) for c in colors]\n",
    "grayscale_colors_normalized = [val / 255.0 for val in grayscale_colors]\n",
    "fig, ax = plt.subplots(figsize=(len(colors), 1))\n",
    "dummy_img = np.arange(len(colors)).reshape(1, -1)\n",
    "ax.imshow(dummy_img, cmap=plt.cm.colors.ListedColormap([np.array([val, val, val]) for val in grayscale_colors_normalized]), aspect='auto', extent=(0, len(colors), 0, 1))\n",
    "ax.set_xticks(np.arange(len(colors)) + 0.5)\n",
    "ax.set_axis_off()\n",
    "plt.show()"
   ]
  }
 ],
 "metadata": {
  "kernelspec": {
   "display_name": ".env",
   "language": "python",
   "name": "python3"
  },
  "language_info": {
   "codemirror_mode": {
    "name": "ipython",
    "version": 3
   },
   "file_extension": ".py",
   "mimetype": "text/x-python",
   "name": "python",
   "nbconvert_exporter": "python",
   "pygments_lexer": "ipython3",
   "version": "3.8.10"
  }
 },
 "nbformat": 4,
 "nbformat_minor": 2
}
