{
 "cells": [
  {
   "cell_type": "code",
   "execution_count": 1,
   "metadata": {},
   "outputs": [
    {
     "ename": "ModuleNotFoundError",
     "evalue": "No module named 'cv2'",
     "output_type": "error",
     "traceback": [
      "\u001b[0;31m---------------------------------------------------------------------------\u001b[0m",
      "\u001b[0;31mModuleNotFoundError\u001b[0m                       Traceback (most recent call last)",
      "\u001b[0;32m<ipython-input-1-0cd8638756c9>\u001b[0m in \u001b[0;36m<module>\u001b[0;34m\u001b[0m\n\u001b[0;32m----> 1\u001b[0;31m \u001b[0;32mimport\u001b[0m \u001b[0mcv2\u001b[0m\u001b[0;34m\u001b[0m\u001b[0;34m\u001b[0m\u001b[0m\n\u001b[0m\u001b[1;32m      2\u001b[0m \u001b[0;32mimport\u001b[0m \u001b[0mos\u001b[0m\u001b[0;34m\u001b[0m\u001b[0;34m\u001b[0m\u001b[0m\n\u001b[1;32m      3\u001b[0m \u001b[0;32mfrom\u001b[0m \u001b[0mconcurrent\u001b[0m\u001b[0;34m.\u001b[0m\u001b[0mfutures\u001b[0m \u001b[0;32mimport\u001b[0m \u001b[0mProcessPoolExecutor\u001b[0m\u001b[0;34m\u001b[0m\u001b[0;34m\u001b[0m\u001b[0m\n\u001b[1;32m      4\u001b[0m \u001b[0;34m\u001b[0m\u001b[0m\n\u001b[1;32m      5\u001b[0m \u001b[0;34m\u001b[0m\u001b[0m\n",
      "\u001b[0;31mModuleNotFoundError\u001b[0m: No module named 'cv2'"
     ]
    }
   ],
   "source": [
    "import cv2\n",
    "import os\n",
    "from concurrent.futures import ProcessPoolExecutor\n",
    "\n",
    "\n",
    "def save_frame(frame, frame_filename):\n",
    "    resized_frame = cv2.resize(frame, None, fx=0.2, fy=0.2)\n",
    "    cv2.imwrite(frame_filename, resized_frame)\n",
    "\n",
    "\n",
    "def extract_frames(video_path, output_folder, frame_rate):\n",
    "    if not os.path.exists(output_folder):\n",
    "        os.makedirs(output_folder)\n",
    "\n",
    "    cap = cv2.VideoCapture(video_path)\n",
    "\n",
    "    if not cap.isOpened():\n",
    "        print(\"Error: Could not open video.\")\n",
    "        return\n",
    "\n",
    "    video_frame_rate = cap.get(cv2.CAP_PROP_FPS)\n",
    "    frame_interval = int(video_frame_rate // frame_rate)\n",
    "    frame_number, saved_frame_number = 0, 0\n",
    "\n",
    "    with ProcessPoolExecutor(max_workers=12) as executor:\n",
    "        while cap.isOpened():\n",
    "            ret, frame = cap.read()\n",
    "            if not ret:\n",
    "                break\n",
    "\n",
    "            if frame_number % frame_interval == 0:\n",
    "                frame_filename = os.path.join(output_folder, f\"{saved_frame_number+1}.png\")\n",
    "                executor.submit(save_frame, frame, frame_filename)\n",
    "                saved_frame_number += 1\n",
    "\n",
    "            frame_number += 1\n",
    "\n",
    "    cap.release()\n",
    "    print(f\"Extracted {saved_frame_number} frames from the video.\")\n",
    "\n",
    "\n",
    "video_path = \"./data/Cs_5DIZ/recordings/Cs_5DIZ_01_08_2023_10_10_A1.mp4\"\n",
    "output_folder = \"./data/Cs_5DIZ/frames/Cs_5DIZ_01_08_2023_10_10_A1\"\n",
    "frame_rate = 24\n",
    "extract_frames(video_path, output_folder, frame_rate)"
   ]
  },
  {
   "cell_type": "code",
   "execution_count": 31,
   "metadata": {},
   "outputs": [
    {
     "name": "stderr",
     "output_type": "stream",
     "text": [
      "/tmp/ipykernel_3446311/1813427276.py:21: RuntimeWarning: More than 20 figures have been opened. Figures created through the pyplot interface (`matplotlib.pyplot.figure`) are retained until explicitly closed and may consume too much memory. (To control this warning, see the rcParam `figure.max_open_warning`). Consider using `matplotlib.pyplot.close()`.\n",
      "  fig, ax = plt.subplots()\n"
     ]
    }
   ],
   "source": [
    "import pandas as pd\n",
    "import os, sys, re\n",
    "import matplotlib.pyplot as plt\n",
    "import matplotlib.image as mpimg\n",
    "\n",
    "from src import settings\n",
    "from src.utils import fileio\n",
    "\n",
    "TREATMENT = \"Cs_5DIZ\"\n",
    "INPUT_DIR = os.path.join(settings.OUTPUT_DIR, \"0_0_preproc_data\", TREATMENT)\n",
    "treatment = fileio.load_multiple_folders(INPUT_DIR)\n",
    "\n",
    "GROUP_NAME = \"Cs_5DIZ_01_08_2023_10_10_A1\"\n",
    "group = fileio.load_files_from_folder(treatment[GROUP_NAME], file_format=\".csv\")\n",
    "\n",
    "frames_folder = \"./data/Cs_5DIZ/frames/Cs_5DIZ_01_08_2023_10_10_A1\"\n",
    "\n",
    "for row in range(1000):\n",
    "    image_filename = os.path.join(frames_folder, f\"{row+1}.png\")\n",
    "    img = mpimg.imread(image_filename)\n",
    "    fig, ax = plt.subplots()\n",
    "    for fly_name, fly_path in group.items():\n",
    "        # TODO read before and save to dict\n",
    "        df = pd.read_csv(fly_path, usecols=[\"pos x\", \"pos y\", \"major axis len\"])\n",
    "\n",
    "        first_row = df.iloc[row].values\n",
    "        img_width = img.shape[1]\n",
    "        img_height = img.shape[0]\n",
    "        scaled_x = first_row[0]\n",
    "        scaled_y = first_row[1]\n",
    "        body_len = first_row[2]\n",
    "        min_x = 553.023338607595\n",
    "        min_y = 167.17559769167354\n",
    "        x_px_ratio = 31.839003077183513\n",
    "        y_px_ratio = 32.18860843823452\n",
    "\n",
    "        image_scaling_factor = 0.2\n",
    "        x_original = ((scaled_x * x_px_ratio) + min_x) * image_scaling_factor\n",
    "        y_original = ((scaled_y * y_px_ratio) + min_y) * image_scaling_factor\n",
    "\n",
    "        bd_radius = ((body_len * ((x_px_ratio + y_px_ratio) / 2))) * image_scaling_factor\n",
    "        fly_label = fly_name.replace(\"fly\", \"\")\n",
    "        fly_label = fly_label.replace(\".csv\", \"\")\n",
    "        ax.scatter(x_original, y_original)\n",
    "        # if fly_name in [\"fly1.csv\", \"fly9.csv\", \"fly11.csv\"]:\n",
    "        # circle = plt.Circle((x_original, y_original), bd_radius * 2.5, fill=False)\n",
    "        # ax.add_artist(circle)\n",
    "\n",
    "        ax.text(x_original, y_original, fly_label, color=\"white\", fontsize=12, fontweight=\"bold\")\n",
    "\n",
    "    ax.imshow(img)\n",
    "    ax.set_xticks([])\n",
    "    ax.set_yticks([])\n",
    "\n",
    "    plt.tight_layout(pad=0)\n",
    "    plt.grid(False)\n",
    "\n",
    "    plt.savefig(f\"./data/Cs_5DIZ/gif/{row+1}.png\")\n",
    "\n",
    "    # plt.show()"
   ]
  },
  {
   "cell_type": "code",
   "execution_count": 4,
   "metadata": {},
   "outputs": [
    {
     "name": "stdout",
     "output_type": "stream",
     "text": [
      "Video saved as ./output_video.mp4\n"
     ]
    }
   ],
   "source": [
    "import cv2\n",
    "import os\n",
    "import re\n",
    "\n",
    "\n",
    "def natural_sort_key(s):\n",
    "    return [int(text) if text.isdigit() else text.lower() for text in re.split(\"(\\d+)\", s)]\n",
    "\n",
    "\n",
    "path = \"/home/milky/drosophila-isolation/notebooks/sn_lab_visit/data/Cs_5DIZ/gif\"\n",
    "output_video_path = \"./output_video.mp4\"\n",
    "frame_rate = 24\n",
    "\n",
    "images = [img for img in sorted(os.listdir(path)) if img.endswith(\".png\") or img.endswith(\".jpg\")]\n",
    "images.sort(key=natural_sort_key)\n",
    "\n",
    "first_image_path = os.path.join(path, images[0])\n",
    "first_image = cv2.imread(first_image_path)\n",
    "height, width, layers = first_image.shape\n",
    "\n",
    "fourcc = cv2.VideoWriter_fourcc(*\"mp4v\")\n",
    "video = cv2.VideoWriter(output_video_path, fourcc, frame_rate, (width, height))\n",
    "\n",
    "for image in images:\n",
    "    image_path = os.path.join(path, image)\n",
    "    img = cv2.imread(image_path)\n",
    "    video.write(img)\n",
    "\n",
    "video.release()\n",
    "print(f\"Video saved as {output_video_path}\")"
   ]
  }
 ],
 "metadata": {
  "kernelspec": {
   "display_name": "Python 3",
   "language": "python",
   "name": "python3"
  },
  "language_info": {
   "codemirror_mode": {
    "name": "ipython",
    "version": 3
   },
   "file_extension": ".py",
   "mimetype": "text/x-python",
   "name": "python",
   "nbconvert_exporter": "python",
   "pygments_lexer": "ipython3",
   "version": "3.8.10"
  }
 },
 "nbformat": 4,
 "nbformat_minor": 2
}
