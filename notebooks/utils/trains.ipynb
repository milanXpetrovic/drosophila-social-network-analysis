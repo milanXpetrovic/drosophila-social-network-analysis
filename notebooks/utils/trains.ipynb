{
 "cells": [
  {
   "cell_type": "code",
   "execution_count": 1,
   "metadata": {},
   "outputs": [
    {
     "ename": "SystemExit",
     "evalue": "",
     "output_type": "error",
     "traceback": [
      "An exception has occurred, use %tb to see the full traceback.\n",
      "\u001b[0;31mSystemExit\u001b[0m\n"
     ]
    },
    {
     "name": "stderr",
     "output_type": "stream",
     "text": [
      "/home/milky/drosophila-SNA/.env/lib/python3.8/site-packages/IPython/core/interactiveshell.py:3516: UserWarning: To exit: use 'exit', 'quit', or Ctrl-D.\n",
      "  warn(\"To exit: use 'exit', 'quit', or Ctrl-D.\", stacklevel=1)\n"
     ]
    }
   ],
   "source": [
    "import pandas as pd \n",
    "import numpy as np\n",
    "import networkx as nx \n",
    "import sys\n",
    "import matplotlib.pyplot as plt\n",
    "from itertools import combinations\n",
    "from src.utils import fileio\n",
    "\n",
    "TREATMENT = \"LDA_OCT_5DIZ_27_11_2023_10_10_A4\"\n",
    "path = f\"/home/milky/sna/data/processed/0_1_2_angles_matrix/LDA_OCT_5DIZ/{TREATMENT}.csv\"\n",
    "df_angles = pd.read_csv(path, index_col=0)\n",
    "\n",
    "path = f\"/home/milky/sna/data/processed/0_1_1_distances_matrix/LDA_OCT_5DIZ/{TREATMENT}.csv\"\n",
    "df_distances = pd.read_csv(path, index_col=0)\n",
    "\n",
    "path = f\"/home/milky/drosophila-SNA/data/processed/0_0_preproc_data/LDA_OCT_5DIZ/{TREATMENT}\"\n",
    "fly_dict = fileio.load_files_from_folder(path)\n",
    "\n",
    "df_flies_vel = pd.DataFrame()\n",
    "for fly_name, fly_path in fly_dict.items():\n",
    "    df = pd.read_csv(fly_path, index_col=0)\n",
    "    df_flies_vel[fly_name]=df['vel']\n",
    "\n",
    "sys.exit()\n",
    "\n",
    "\n",
    "df_angles = df_angles.T\n",
    "df_distances = df_distances.T\n",
    "DISTANCE = 2.5\n",
    "ANGLE = [0, -180]\n",
    "threshold_value = 0.33\n",
    "d = {}\n",
    "for frame in df_angles.columns:\n",
    "    df_a_d = pd.concat([df_angles.iloc[:, frame], df_distances.iloc[:, frame]], axis=1)\n",
    "    df_a_d.columns = [\"angle\", \"distance\"]\n",
    "    \n",
    "    distance_mask = df_a_d[\"distance\"] <= DISTANCE\n",
    "    # df_a_d = df_a_d[distance_mask]\n",
    "    angle_mask = (df_a_d[\"angle\"] <= ANGLE[0]) & (df_a_d[\"angle\"] >= ANGLE[1])\n",
    "    df_a_d = df_a_d[distance_mask & angle_mask]\n",
    "\n",
    "    G = nx.DiGraph()\n",
    "    for r in df_a_d.iterrows():\n",
    "        nodes, values = r\n",
    "        n_1, n_2 = nodes.split(\" \")\n",
    "        G.add_edge(n_1, n_2)\n",
    "    \n",
    "    connected_components = list(nx.connected_components(G.to_undirected()))\n",
    "    try:\n",
    "        largest_component = max(connected_components, key=len)\n",
    "    except:\n",
    "        pass\n",
    "\n",
    "    if len(largest_component) > 3:\n",
    "        G = G.subgraph(largest_component)\n",
    "        nodes_degree_1 = [node for node in G.nodes if G.degree(node) == 1]\n",
    "        two_item_pairs = list(combinations(nodes_degree_1, 2))\n",
    "        for start_node, end_node in two_item_pairs:\n",
    "            if nx.has_path(G, start_node, end_node) or nx.has_path(G, end_node, start_node):\n",
    "                # pos = nx.circular_layout(G) \n",
    "                # nx.draw(G, pos, with_labels=True, width=1)\n",
    "\n",
    "                flies_vel_dict = {}\n",
    "                valid = True\n",
    "                for fly_name in largest_component:\n",
    "                    if valid and df_flies_vel[fly_name][frame] > threshold_value:\n",
    "                        flies_vel_dict[fly_name] = df_flies_vel[fly_name][frame]\n",
    "                    else:\n",
    "                        flies_vel_dict = {}\n",
    "                        valid = False\n",
    "                if valid:\n",
    "                    d.update({frame :flies_vel_dict})\n",
    "\n",
    "def split_consecutive(lst):\n",
    "    result = []\n",
    "    sublist = [lst[0]]\n",
    "\n",
    "    for i in range(1, len(lst)):\n",
    "        # Check if the current number is consecutive to the previous one\n",
    "        if lst[i] == lst[i - 1] + 1:\n",
    "            sublist.append(lst[i])\n",
    "        else:\n",
    "            result.append(sublist)\n",
    "            sublist = [lst[i]]\n",
    "    \n",
    "    result.append(sublist)  # Append the last sublist\n",
    "\n",
    "    final = []\n",
    "    for sl in result:\n",
    "        if len(sl)>6:\n",
    "            final.append(sl)\n",
    "    \n",
    "    return final\n",
    "\n",
    "# Split the list into consecutive sublists\n",
    "consecutive_sublists = split_consecutive(list(d.keys()))"
   ]
  },
  {
   "cell_type": "code",
   "execution_count": 5,
   "metadata": {},
   "outputs": [
    {
     "name": "stdout",
     "output_type": "stream",
     "text": [
      "360 9\n",
      "377 11\n",
      "481 35\n",
      "3947 9\n",
      "3964 9\n",
      "4104 18\n",
      "4171 9\n",
      "4181 7\n",
      "4510 7\n",
      "4534 7\n",
      "11959 8\n"
     ]
    }
   ],
   "source": [
    "total_trains_time = 0\n",
    "for l in consecutive_sublists:\n",
    "    print(l[0], len(l))\n",
    "    \n",
    "#     total_trains_time += len(l)\n",
    "\n",
    "# print(total_trains_time)"
   ]
  }
 ],
 "metadata": {
  "kernelspec": {
   "display_name": ".env",
   "language": "python",
   "name": "python3"
  },
  "language_info": {
   "codemirror_mode": {
    "name": "ipython",
    "version": 3
   },
   "file_extension": ".py",
   "mimetype": "text/x-python",
   "name": "python",
   "nbconvert_exporter": "python",
   "pygments_lexer": "ipython3",
   "version": "3.8.10"
  }
 },
 "nbformat": 4,
 "nbformat_minor": 2
}
