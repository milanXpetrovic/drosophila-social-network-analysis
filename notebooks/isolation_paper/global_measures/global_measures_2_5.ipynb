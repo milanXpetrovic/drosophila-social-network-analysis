{
 "cells": [
  {
   "cell_type": "markdown",
   "metadata": {},
   "source": [
    "## Global measures distributions in snapshots joint for treatments\n",
    "\n",
    "**interaction criteria:**\n",
    "- ANGLE = 160 degree\n",
    "- DISTANCE = 2.5 body lengths\n",
    "- TIME = 0.6 seconds"
   ]
  },
  {
   "cell_type": "code",
   "execution_count": 1,
   "metadata": {},
   "outputs": [
    {
     "name": "stderr",
     "output_type": "stream",
     "text": [
      "/home/milky/drosophila-SNA/.env/lib/python3.8/site-packages/scipy/stats/_stats_py.py:3861: DegenerateDataWarning: at least one input has length 0\n",
      "  warnings.warn(stats.DegenerateDataWarning('at least one input '\n",
      "/home/milky/drosophila-SNA/.env/lib/python3.8/site-packages/statsmodels/sandbox/stats/multicomp.py:1300: RuntimeWarning: invalid value encountered in divide\n",
      "  st_range = np.abs(meandiffs) / std_pairs #studentized range statistic\n"
     ]
    },
    {
     "data": {
      "text/plain": [
       "<Figure size 640x480 with 0 Axes>"
      ]
     },
     "metadata": {},
     "output_type": "display_data"
    }
   ],
   "source": [
    "import os\n",
    "import toml\n",
    "import scipy\n",
    "\n",
    "import numpy as np\n",
    "import pandas as pd\n",
    "\n",
    "import seaborn as sns\n",
    "import matplotlib.pyplot as plt\n",
    "\n",
    "import scipy.stats\n",
    "from statsmodels.stats.multicomp import pairwise_tukeyhsd\n",
    "\n",
    "from src import settings\n",
    "from src.utils import fileio\n",
    "\n",
    "CONFIG_PATH = os.path.join(settings.CONFIG_DIR, 'main.toml')\n",
    "with open(CONFIG_PATH, 'r') as file:\n",
    "    config = toml.load(file)  \n",
    "\n",
    "INPUT_PATH = os.path.join(settings.RESULTS_DIR, 'global_measures')\n",
    "all_treatments = fileio.load_files_from_folder(INPUT_PATH)\n",
    "\n",
    "dataframes = []\n",
    "for treatment_name, treatment_path in all_treatments.items():\n",
    "    treatment_name = treatment_name.replace('.csv', '')\n",
    "    if treatment_name in config['TREATMENTS']:\n",
    "        df = pd.read_csv(treatment_path, index_col=0)\n",
    "        df['Treatment'] = treatment_name\n",
    "        dataframes.append(df)\n",
    "\n",
    "combined_data = pd.concat(dataframes)\n",
    "combined_data_reset = combined_data.reset_index()\n",
    "measure_names = combined_data.columns.tolist()\n",
    "\n",
    "for i, measure_name in enumerate(measure_names):\n",
    "    if measure_name == 'Treatment':\n",
    "        continue\n",
    "    \n",
    "    sum_CsCh = combined_data_reset[combined_data_reset['Treatment']=='CsCh'][measure_name]\n",
    "    sum_Cs_5DIZ = combined_data_reset[combined_data_reset['Treatment']=='Cs_5DIZ'][measure_name]\n",
    "    sum_LDA_5DIZ = combined_data_reset[combined_data_reset['Treatment']=='LDA_5DIZ'][measure_name]\n",
    "    sum_OCT_5DIZ = combined_data_reset[combined_data_reset['Treatment']=='OCT_5DIZ'][measure_name]\n",
    "    sum_LDA_OCT_5DIZ = combined_data_reset[combined_data_reset['Treatment']=='LDA_OCT_5DIZ'][measure_name]\n",
    "\n",
    "    anova_result = scipy.stats.f_oneway(sum_CsCh, sum_Cs_5DIZ, sum_LDA_5DIZ, sum_OCT_5DIZ, sum_LDA_OCT_5DIZ)\n",
    "\n",
    "    all_data = np.concatenate([sum_CsCh, sum_Cs_5DIZ, sum_LDA_5DIZ, sum_OCT_5DIZ, sum_LDA_OCT_5DIZ])\n",
    "    group_labels = ['CsCh'] * len(sum_CsCh) + ['Cs_5DIZ'] * len(sum_Cs_5DIZ) + ['LDA_5DIZ'] * len(sum_LDA_5DIZ) + ['OCT_5DIZ'] * len(sum_OCT_5DIZ) + ['LDA_OCT_5DIZ'] * len(sum_LDA_OCT_5DIZ)\n",
    "    tukey_results = pairwise_tukeyhsd(all_data, group_labels)\n",
    "\n",
    "    if not any(tukey_results.reject):\n",
    "        print('='*90)\n",
    "        print(measure_name)\n",
    "        print(tukey_results)\n",
    "\n",
    "        plt.figure(figsize=(6, 4))\n",
    "        order = ['CsCh', 'Cs_5DIZ', 'LDA_5DIZ', 'OCT_5DIZ', 'LDA_OCT_5DIZ'] \n",
    "        sns.pointplot(data=combined_data_reset, x='Treatment', y=measure_name, hue='index', errorbar='sd', order=order)\n",
    "        # sns.boxplot(data=combined_data_reset, x='Treatment', y=measure_name, hue='index', order=order)\n",
    "        \n",
    "        plt.xlabel('Treatment')\n",
    "        plt.ylabel(measure_name)\n",
    "        plt.title(f'Distribution of {measure_name}', fontsize=18)\n",
    "        # plt.legend('')\n",
    "        plt.show() \n",
    "        print('='*90)\n",
    "\n",
    "plt.tight_layout()\n",
    "plt.show()"
   ]
  }
 ],
 "metadata": {
  "kernelspec": {
   "display_name": ".env",
   "language": "python",
   "name": "python3"
  },
  "language_info": {
   "codemirror_mode": {
    "name": "ipython",
    "version": 3
   },
   "file_extension": ".py",
   "mimetype": "text/x-python",
   "name": "python",
   "nbconvert_exporter": "python",
   "pygments_lexer": "ipython3",
   "version": "3.8.10"
  },
  "orig_nbformat": 4
 },
 "nbformat": 4,
 "nbformat_minor": 2
}
